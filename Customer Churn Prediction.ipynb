{
 "cells": [
  {
   "cell_type": "code",
   "execution_count": null,
   "id": "71999754",
   "metadata": {},
   "outputs": [],
   "source": [
    "Problem: WHICH CUSTOMERS WILL STOP BUYING OUR PRODUCT"
   ]
  },
  {
   "cell_type": "code",
   "execution_count": null,
   "id": "045f6eb8",
   "metadata": {},
   "outputs": [],
   "source": [
    "1.Load all libries and loading data"
   ]
  },
  {
   "cell_type": "code",
   "execution_count": 1,
   "id": "787f0f71",
   "metadata": {},
   "outputs": [
    {
     "name": "stdout",
     "output_type": "stream",
     "text": [
      "Requirement already satisfied: xgboost in c:\\users\\mukaidziwa m\\anaconda3\\envs\\create_an_environment\\lib\\site-packages (2.0.3)\n",
      "Requirement already satisfied: numpy in c:\\users\\mukaidziwa m\\anaconda3\\envs\\create_an_environment\\lib\\site-packages (from xgboost) (1.26.0)\n",
      "Requirement already satisfied: scipy in c:\\users\\mukaidziwa m\\anaconda3\\envs\\create_an_environment\\lib\\site-packages (from xgboost) (1.11.3)\n",
      "Note: you may need to restart the kernel to use updated packages.\n"
     ]
    }
   ],
   "source": [
    "pip install xgboost"
   ]
  },
  {
   "cell_type": "code",
   "execution_count": 2,
   "id": "0f801a95",
   "metadata": {},
   "outputs": [],
   "source": [
    "import numpy as np\n",
    "import pandas as pd\n",
    "import matplotlib.pyplot as plt\n",
    "import seaborn as sns\n",
    "from sklearn import preprocessing\n",
    "import lightgbm as lgb\n",
    "from catboost import CatBoostClassifier\n",
    "import xgboost as xgb\n",
    "from sklearn.model_selection import train_test_split\n",
    "from sklearn.metrics import accuracy_score\n",
    "from sklearn.preprocessing import LabelEncoder\n",
    "from sklearn.preprocessing import RobustScaler\n",
    "from sklearn.metrics import roc_auc_score\n",
    "from sklearn.metrics import recall_score\n",
    "from sklearn.metrics import precision_score\n",
    "from sklearn.metrics import f1_score"
   ]
  },
  {
   "cell_type": "code",
   "execution_count": null,
   "id": "8b792579",
   "metadata": {},
   "outputs": [],
   "source": []
  },
  {
   "cell_type": "code",
   "execution_count": null,
   "id": "3a8dc2f6",
   "metadata": {},
   "outputs": [],
   "source": [
    "2.Understaning the data"
   ]
  },
  {
   "cell_type": "code",
   "execution_count": 3,
   "id": "9d1a2c93",
   "metadata": {},
   "outputs": [],
   "source": [
    "# Read the CSV file\n",
    "train = pd.read_csv('Train (1).csv')\n",
    "test = pd.read_csv('Test (1).csv')"
   ]
  },
  {
   "cell_type": "code",
   "execution_count": 4,
   "id": "c657689f",
   "metadata": {},
   "outputs": [
    {
     "data": {
      "text/html": [
       "<div>\n",
       "<style scoped>\n",
       "    .dataframe tbody tr th:only-of-type {\n",
       "        vertical-align: middle;\n",
       "    }\n",
       "\n",
       "    .dataframe tbody tr th {\n",
       "        vertical-align: top;\n",
       "    }\n",
       "\n",
       "    .dataframe thead th {\n",
       "        text-align: right;\n",
       "    }\n",
       "</style>\n",
       "<table border=\"1\" class=\"dataframe\">\n",
       "  <thead>\n",
       "    <tr style=\"text-align: right;\">\n",
       "      <th></th>\n",
       "      <th>ID</th>\n",
       "      <th>region</th>\n",
       "      <th>tenure</th>\n",
       "      <th>Amount</th>\n",
       "      <th>refill_frequency</th>\n",
       "      <th>revenue</th>\n",
       "      <th>arpu_segment</th>\n",
       "      <th>frequency</th>\n",
       "      <th>data_volume</th>\n",
       "      <th>on_net</th>\n",
       "      <th>Procuct_1</th>\n",
       "      <th>Procuct_2</th>\n",
       "      <th>zone1</th>\n",
       "      <th>zone2</th>\n",
       "      <th>mrg</th>\n",
       "      <th>regularity</th>\n",
       "      <th>top_pack</th>\n",
       "      <th>freq_top_pack</th>\n",
       "      <th>Target</th>\n",
       "    </tr>\n",
       "  </thead>\n",
       "  <tbody>\n",
       "    <tr>\n",
       "      <th>0</th>\n",
       "      <td>ID_YEB05X4KUGPQ</td>\n",
       "      <td>NaN</td>\n",
       "      <td>K &gt; 24 month</td>\n",
       "      <td>NaN</td>\n",
       "      <td>NaN</td>\n",
       "      <td>NaN</td>\n",
       "      <td>NaN</td>\n",
       "      <td>NaN</td>\n",
       "      <td>NaN</td>\n",
       "      <td>NaN</td>\n",
       "      <td>NaN</td>\n",
       "      <td>NaN</td>\n",
       "      <td>NaN</td>\n",
       "      <td>NaN</td>\n",
       "      <td>NO</td>\n",
       "      <td>3</td>\n",
       "      <td>NaN</td>\n",
       "      <td>NaN</td>\n",
       "      <td>0</td>\n",
       "    </tr>\n",
       "    <tr>\n",
       "      <th>1</th>\n",
       "      <td>ID_Z9IQ9QH52KVN</td>\n",
       "      <td>Nebula</td>\n",
       "      <td>K &gt; 24 month</td>\n",
       "      <td>4764.96</td>\n",
       "      <td>41.0</td>\n",
       "      <td>4756.84</td>\n",
       "      <td>1585.47</td>\n",
       "      <td>41.0</td>\n",
       "      <td>2.0</td>\n",
       "      <td>626.0</td>\n",
       "      <td>24.0</td>\n",
       "      <td>NaN</td>\n",
       "      <td>NaN</td>\n",
       "      <td>NaN</td>\n",
       "      <td>NO</td>\n",
       "      <td>62</td>\n",
       "      <td>On net 200F=Unlimited _call24H</td>\n",
       "      <td>31.0</td>\n",
       "      <td>0</td>\n",
       "    </tr>\n",
       "    <tr>\n",
       "      <th>2</th>\n",
       "      <td>ID_YZSU7B7M35QS</td>\n",
       "      <td>Celestial</td>\n",
       "      <td>K &gt; 24 month</td>\n",
       "      <td>5769.23</td>\n",
       "      <td>22.0</td>\n",
       "      <td>5769.23</td>\n",
       "      <td>1923.08</td>\n",
       "      <td>22.0</td>\n",
       "      <td>28121.0</td>\n",
       "      <td>0.0</td>\n",
       "      <td>NaN</td>\n",
       "      <td>1.0</td>\n",
       "      <td>NaN</td>\n",
       "      <td>NaN</td>\n",
       "      <td>NO</td>\n",
       "      <td>61</td>\n",
       "      <td>NaN</td>\n",
       "      <td>NaN</td>\n",
       "      <td>0</td>\n",
       "    </tr>\n",
       "    <tr>\n",
       "      <th>3</th>\n",
       "      <td>ID_QS4F5LEX29KM</td>\n",
       "      <td>NaN</td>\n",
       "      <td>K &gt; 24 month</td>\n",
       "      <td>NaN</td>\n",
       "      <td>NaN</td>\n",
       "      <td>NaN</td>\n",
       "      <td>NaN</td>\n",
       "      <td>NaN</td>\n",
       "      <td>NaN</td>\n",
       "      <td>NaN</td>\n",
       "      <td>NaN</td>\n",
       "      <td>NaN</td>\n",
       "      <td>NaN</td>\n",
       "      <td>NaN</td>\n",
       "      <td>NO</td>\n",
       "      <td>6</td>\n",
       "      <td>NaN</td>\n",
       "      <td>NaN</td>\n",
       "      <td>0</td>\n",
       "    </tr>\n",
       "    <tr>\n",
       "      <th>4</th>\n",
       "      <td>ID_8IYIC9PFU8U1</td>\n",
       "      <td>Eclipsara</td>\n",
       "      <td>K &gt; 24 month</td>\n",
       "      <td>5341.88</td>\n",
       "      <td>58.0</td>\n",
       "      <td>5636.75</td>\n",
       "      <td>1879.06</td>\n",
       "      <td>60.0</td>\n",
       "      <td>1131.0</td>\n",
       "      <td>546.0</td>\n",
       "      <td>376.0</td>\n",
       "      <td>0.0</td>\n",
       "      <td>NaN</td>\n",
       "      <td>NaN</td>\n",
       "      <td>NO</td>\n",
       "      <td>62</td>\n",
       "      <td>Mixt 250F=Unlimited_call24H</td>\n",
       "      <td>31.0</td>\n",
       "      <td>0</td>\n",
       "    </tr>\n",
       "  </tbody>\n",
       "</table>\n",
       "</div>"
      ],
      "text/plain": [
       "                ID     region        tenure   Amount  refill_frequency  \\\n",
       "0  ID_YEB05X4KUGPQ        NaN  K > 24 month      NaN               NaN   \n",
       "1  ID_Z9IQ9QH52KVN     Nebula  K > 24 month  4764.96              41.0   \n",
       "2  ID_YZSU7B7M35QS  Celestial  K > 24 month  5769.23              22.0   \n",
       "3  ID_QS4F5LEX29KM        NaN  K > 24 month      NaN               NaN   \n",
       "4  ID_8IYIC9PFU8U1  Eclipsara  K > 24 month  5341.88              58.0   \n",
       "\n",
       "   revenue  arpu_segment  frequency  data_volume  on_net  Procuct_1  \\\n",
       "0      NaN           NaN        NaN          NaN     NaN        NaN   \n",
       "1  4756.84       1585.47       41.0          2.0   626.0       24.0   \n",
       "2  5769.23       1923.08       22.0      28121.0     0.0        NaN   \n",
       "3      NaN           NaN        NaN          NaN     NaN        NaN   \n",
       "4  5636.75       1879.06       60.0       1131.0   546.0      376.0   \n",
       "\n",
       "   Procuct_2  zone1  zone2 mrg  regularity                        top_pack  \\\n",
       "0        NaN    NaN    NaN  NO           3                             NaN   \n",
       "1        NaN    NaN    NaN  NO          62  On net 200F=Unlimited _call24H   \n",
       "2        1.0    NaN    NaN  NO          61                             NaN   \n",
       "3        NaN    NaN    NaN  NO           6                             NaN   \n",
       "4        0.0    NaN    NaN  NO          62     Mixt 250F=Unlimited_call24H   \n",
       "\n",
       "   freq_top_pack  Target  \n",
       "0            NaN       0  \n",
       "1           31.0       0  \n",
       "2            NaN       0  \n",
       "3            NaN       0  \n",
       "4           31.0       0  "
      ]
     },
     "execution_count": 4,
     "metadata": {},
     "output_type": "execute_result"
    }
   ],
   "source": [
    "train.head()"
   ]
  },
  {
   "cell_type": "code",
   "execution_count": 5,
   "id": "1ec7fc34",
   "metadata": {},
   "outputs": [
    {
     "data": {
      "text/html": [
       "<div>\n",
       "<style scoped>\n",
       "    .dataframe tbody tr th:only-of-type {\n",
       "        vertical-align: middle;\n",
       "    }\n",
       "\n",
       "    .dataframe tbody tr th {\n",
       "        vertical-align: top;\n",
       "    }\n",
       "\n",
       "    .dataframe thead th {\n",
       "        text-align: right;\n",
       "    }\n",
       "</style>\n",
       "<table border=\"1\" class=\"dataframe\">\n",
       "  <thead>\n",
       "    <tr style=\"text-align: right;\">\n",
       "      <th></th>\n",
       "      <th>ID</th>\n",
       "      <th>region</th>\n",
       "      <th>tenure</th>\n",
       "      <th>Amount</th>\n",
       "      <th>refill_frequency</th>\n",
       "      <th>revenue</th>\n",
       "      <th>arpu_segment</th>\n",
       "      <th>frequency</th>\n",
       "      <th>data_volume</th>\n",
       "      <th>on_net</th>\n",
       "      <th>Procuct_1</th>\n",
       "      <th>Procuct_2</th>\n",
       "      <th>zone1</th>\n",
       "      <th>zone2</th>\n",
       "      <th>mrg</th>\n",
       "      <th>regularity</th>\n",
       "      <th>top_pack</th>\n",
       "      <th>freq_top_pack</th>\n",
       "    </tr>\n",
       "  </thead>\n",
       "  <tbody>\n",
       "    <tr>\n",
       "      <th>0</th>\n",
       "      <td>ID_LZ8K373W7EWV</td>\n",
       "      <td>Droidika</td>\n",
       "      <td>K &gt; 24 month</td>\n",
       "      <td>2008.55</td>\n",
       "      <td>16.0</td>\n",
       "      <td>2010.26</td>\n",
       "      <td>670.09</td>\n",
       "      <td>17.0</td>\n",
       "      <td>10.0</td>\n",
       "      <td>247.0</td>\n",
       "      <td>17.0</td>\n",
       "      <td>70.0</td>\n",
       "      <td>NaN</td>\n",
       "      <td>NaN</td>\n",
       "      <td>NO</td>\n",
       "      <td>59</td>\n",
       "      <td>On net 200F=Unlimited _call24H</td>\n",
       "      <td>11.0</td>\n",
       "    </tr>\n",
       "    <tr>\n",
       "      <th>1</th>\n",
       "      <td>ID_04KNWHGV5783</td>\n",
       "      <td>Luminous</td>\n",
       "      <td>K &gt; 24 month</td>\n",
       "      <td>2991.45</td>\n",
       "      <td>14.0</td>\n",
       "      <td>2991.45</td>\n",
       "      <td>997.01</td>\n",
       "      <td>17.0</td>\n",
       "      <td>NaN</td>\n",
       "      <td>99.0</td>\n",
       "      <td>100.0</td>\n",
       "      <td>84.0</td>\n",
       "      <td>NaN</td>\n",
       "      <td>NaN</td>\n",
       "      <td>NO</td>\n",
       "      <td>49</td>\n",
       "      <td>All-net 500F=2000F;5d</td>\n",
       "      <td>12.0</td>\n",
       "    </tr>\n",
       "    <tr>\n",
       "      <th>2</th>\n",
       "      <td>ID_CXS07G6VLB2U</td>\n",
       "      <td>Astral</td>\n",
       "      <td>K &gt; 24 month</td>\n",
       "      <td>1581.20</td>\n",
       "      <td>8.0</td>\n",
       "      <td>1578.21</td>\n",
       "      <td>526.07</td>\n",
       "      <td>8.0</td>\n",
       "      <td>436.0</td>\n",
       "      <td>47.0</td>\n",
       "      <td>113.0</td>\n",
       "      <td>5.0</td>\n",
       "      <td>NaN</td>\n",
       "      <td>NaN</td>\n",
       "      <td>NO</td>\n",
       "      <td>13</td>\n",
       "      <td>Jokko_Daily</td>\n",
       "      <td>6.0</td>\n",
       "    </tr>\n",
       "    <tr>\n",
       "      <th>3</th>\n",
       "      <td>ID_N3NFJJVHS25K</td>\n",
       "      <td>Eclipsara</td>\n",
       "      <td>K &gt; 24 month</td>\n",
       "      <td>2564.10</td>\n",
       "      <td>12.0</td>\n",
       "      <td>2777.78</td>\n",
       "      <td>926.07</td>\n",
       "      <td>13.0</td>\n",
       "      <td>0.0</td>\n",
       "      <td>135.0</td>\n",
       "      <td>181.0</td>\n",
       "      <td>NaN</td>\n",
       "      <td>NaN</td>\n",
       "      <td>NaN</td>\n",
       "      <td>NO</td>\n",
       "      <td>53</td>\n",
       "      <td>All-net 500F=2000F;5d</td>\n",
       "      <td>13.0</td>\n",
       "    </tr>\n",
       "    <tr>\n",
       "      <th>4</th>\n",
       "      <td>ID_R36J4ROT93E9</td>\n",
       "      <td>NaN</td>\n",
       "      <td>K &gt; 24 month</td>\n",
       "      <td>NaN</td>\n",
       "      <td>NaN</td>\n",
       "      <td>NaN</td>\n",
       "      <td>NaN</td>\n",
       "      <td>NaN</td>\n",
       "      <td>NaN</td>\n",
       "      <td>NaN</td>\n",
       "      <td>NaN</td>\n",
       "      <td>NaN</td>\n",
       "      <td>NaN</td>\n",
       "      <td>NaN</td>\n",
       "      <td>NO</td>\n",
       "      <td>1</td>\n",
       "      <td>NaN</td>\n",
       "      <td>NaN</td>\n",
       "    </tr>\n",
       "  </tbody>\n",
       "</table>\n",
       "</div>"
      ],
      "text/plain": [
       "                ID     region        tenure   Amount  refill_frequency  \\\n",
       "0  ID_LZ8K373W7EWV   Droidika  K > 24 month  2008.55              16.0   \n",
       "1  ID_04KNWHGV5783   Luminous  K > 24 month  2991.45              14.0   \n",
       "2  ID_CXS07G6VLB2U     Astral  K > 24 month  1581.20               8.0   \n",
       "3  ID_N3NFJJVHS25K  Eclipsara  K > 24 month  2564.10              12.0   \n",
       "4  ID_R36J4ROT93E9        NaN  K > 24 month      NaN               NaN   \n",
       "\n",
       "   revenue  arpu_segment  frequency  data_volume  on_net  Procuct_1  \\\n",
       "0  2010.26        670.09       17.0         10.0   247.0       17.0   \n",
       "1  2991.45        997.01       17.0          NaN    99.0      100.0   \n",
       "2  1578.21        526.07        8.0        436.0    47.0      113.0   \n",
       "3  2777.78        926.07       13.0          0.0   135.0      181.0   \n",
       "4      NaN           NaN        NaN          NaN     NaN        NaN   \n",
       "\n",
       "   Procuct_2  zone1  zone2 mrg  regularity                        top_pack  \\\n",
       "0       70.0    NaN    NaN  NO          59  On net 200F=Unlimited _call24H   \n",
       "1       84.0    NaN    NaN  NO          49           All-net 500F=2000F;5d   \n",
       "2        5.0    NaN    NaN  NO          13                     Jokko_Daily   \n",
       "3        NaN    NaN    NaN  NO          53           All-net 500F=2000F;5d   \n",
       "4        NaN    NaN    NaN  NO           1                             NaN   \n",
       "\n",
       "   freq_top_pack  \n",
       "0           11.0  \n",
       "1           12.0  \n",
       "2            6.0  \n",
       "3           13.0  \n",
       "4            NaN  "
      ]
     },
     "execution_count": 5,
     "metadata": {},
     "output_type": "execute_result"
    }
   ],
   "source": [
    "test.head()"
   ]
  },
  {
   "cell_type": "code",
   "execution_count": 6,
   "id": "fc8a4399",
   "metadata": {},
   "outputs": [
    {
     "data": {
      "text/plain": [
       "(1507834, 19)"
      ]
     },
     "execution_count": 6,
     "metadata": {},
     "output_type": "execute_result"
    }
   ],
   "source": [
    "train.shape"
   ]
  },
  {
   "cell_type": "code",
   "execution_count": 7,
   "id": "ed25b788",
   "metadata": {},
   "outputs": [
    {
     "data": {
      "text/plain": [
       "(380127, 18)"
      ]
     },
     "execution_count": 7,
     "metadata": {},
     "output_type": "execute_result"
    }
   ],
   "source": [
    "test.shape"
   ]
  },
  {
   "cell_type": "code",
   "execution_count": 8,
   "id": "133b7a9b",
   "metadata": {},
   "outputs": [
    {
     "data": {
      "text/html": [
       "<div>\n",
       "<style scoped>\n",
       "    .dataframe tbody tr th:only-of-type {\n",
       "        vertical-align: middle;\n",
       "    }\n",
       "\n",
       "    .dataframe tbody tr th {\n",
       "        vertical-align: top;\n",
       "    }\n",
       "\n",
       "    .dataframe thead th {\n",
       "        text-align: right;\n",
       "    }\n",
       "</style>\n",
       "<table border=\"1\" class=\"dataframe\">\n",
       "  <thead>\n",
       "    <tr style=\"text-align: right;\">\n",
       "      <th></th>\n",
       "      <th>Amount</th>\n",
       "      <th>refill_frequency</th>\n",
       "      <th>revenue</th>\n",
       "      <th>arpu_segment</th>\n",
       "      <th>frequency</th>\n",
       "      <th>data_volume</th>\n",
       "      <th>on_net</th>\n",
       "      <th>Procuct_1</th>\n",
       "      <th>Procuct_2</th>\n",
       "      <th>zone1</th>\n",
       "      <th>zone2</th>\n",
       "      <th>regularity</th>\n",
       "      <th>freq_top_pack</th>\n",
       "      <th>Target</th>\n",
       "    </tr>\n",
       "  </thead>\n",
       "  <tbody>\n",
       "    <tr>\n",
       "      <th>count</th>\n",
       "      <td>978320.000000</td>\n",
       "      <td>978320.000000</td>\n",
       "      <td>999713.000000</td>\n",
       "      <td>999713.000000</td>\n",
       "      <td>999713.000000</td>\n",
       "      <td>7.660280e+05</td>\n",
       "      <td>957192.000000</td>\n",
       "      <td>881271.000000</td>\n",
       "      <td>604784.000000</td>\n",
       "      <td>118986.000000</td>\n",
       "      <td>95505.000000</td>\n",
       "      <td>1.507834e+06</td>\n",
       "      <td>876011.000000</td>\n",
       "      <td>1.507834e+06</td>\n",
       "    </tr>\n",
       "    <tr>\n",
       "      <th>mean</th>\n",
       "      <td>2361.212767</td>\n",
       "      <td>11.521423</td>\n",
       "      <td>2352.073152</td>\n",
       "      <td>784.027307</td>\n",
       "      <td>13.967657</td>\n",
       "      <td>3.354667e+03</td>\n",
       "      <td>278.000929</td>\n",
       "      <td>95.325088</td>\n",
       "      <td>23.146017</td>\n",
       "      <td>8.092187</td>\n",
       "      <td>7.465515</td>\n",
       "      <td>2.804414e+01</td>\n",
       "      <td>9.263913</td>\n",
       "      <td>1.873648e-01</td>\n",
       "    </tr>\n",
       "    <tr>\n",
       "      <th>std</th>\n",
       "      <td>3028.954909</td>\n",
       "      <td>13.266779</td>\n",
       "      <td>3053.176864</td>\n",
       "      <td>1017.723634</td>\n",
       "      <td>14.682316</td>\n",
       "      <td>1.330460e+04</td>\n",
       "      <td>874.412483</td>\n",
       "      <td>203.328016</td>\n",
       "      <td>63.506893</td>\n",
       "      <td>40.739423</td>\n",
       "      <td>32.145740</td>\n",
       "      <td>2.228078e+01</td>\n",
       "      <td>12.268658</td>\n",
       "      <td>3.902042e-01</td>\n",
       "    </tr>\n",
       "    <tr>\n",
       "      <th>min</th>\n",
       "      <td>4.270000</td>\n",
       "      <td>1.000000</td>\n",
       "      <td>0.430000</td>\n",
       "      <td>0.000000</td>\n",
       "      <td>1.000000</td>\n",
       "      <td>0.000000e+00</td>\n",
       "      <td>0.000000</td>\n",
       "      <td>0.000000</td>\n",
       "      <td>0.000000</td>\n",
       "      <td>0.000000</td>\n",
       "      <td>0.000000</td>\n",
       "      <td>1.000000e+00</td>\n",
       "      <td>1.000000</td>\n",
       "      <td>0.000000e+00</td>\n",
       "    </tr>\n",
       "    <tr>\n",
       "      <th>25%</th>\n",
       "      <td>427.350000</td>\n",
       "      <td>2.000000</td>\n",
       "      <td>427.350000</td>\n",
       "      <td>142.310000</td>\n",
       "      <td>3.000000</td>\n",
       "      <td>0.000000e+00</td>\n",
       "      <td>5.000000</td>\n",
       "      <td>7.000000</td>\n",
       "      <td>2.000000</td>\n",
       "      <td>0.000000</td>\n",
       "      <td>0.000000</td>\n",
       "      <td>6.000000e+00</td>\n",
       "      <td>2.000000</td>\n",
       "      <td>0.000000e+00</td>\n",
       "    </tr>\n",
       "    <tr>\n",
       "      <th>50%</th>\n",
       "      <td>1282.050000</td>\n",
       "      <td>7.000000</td>\n",
       "      <td>1282.050000</td>\n",
       "      <td>427.350000</td>\n",
       "      <td>9.000000</td>\n",
       "      <td>2.560000e+02</td>\n",
       "      <td>27.000000</td>\n",
       "      <td>29.000000</td>\n",
       "      <td>6.000000</td>\n",
       "      <td>1.000000</td>\n",
       "      <td>2.000000</td>\n",
       "      <td>2.400000e+01</td>\n",
       "      <td>5.000000</td>\n",
       "      <td>0.000000e+00</td>\n",
       "    </tr>\n",
       "    <tr>\n",
       "      <th>75%</th>\n",
       "      <td>3141.030000</td>\n",
       "      <td>16.000000</td>\n",
       "      <td>3146.580000</td>\n",
       "      <td>1048.720000</td>\n",
       "      <td>20.000000</td>\n",
       "      <td>2.879000e+03</td>\n",
       "      <td>156.000000</td>\n",
       "      <td>99.000000</td>\n",
       "      <td>20.000000</td>\n",
       "      <td>3.000000</td>\n",
       "      <td>5.000000</td>\n",
       "      <td>5.100000e+01</td>\n",
       "      <td>12.000000</td>\n",
       "      <td>0.000000e+00</td>\n",
       "    </tr>\n",
       "    <tr>\n",
       "      <th>max</th>\n",
       "      <td>124145.300000</td>\n",
       "      <td>133.000000</td>\n",
       "      <td>113696.580000</td>\n",
       "      <td>37898.720000</td>\n",
       "      <td>91.000000</td>\n",
       "      <td>1.823866e+06</td>\n",
       "      <td>50809.000000</td>\n",
       "      <td>12040.000000</td>\n",
       "      <td>4174.000000</td>\n",
       "      <td>4792.000000</td>\n",
       "      <td>3143.000000</td>\n",
       "      <td>6.200000e+01</td>\n",
       "      <td>629.000000</td>\n",
       "      <td>1.000000e+00</td>\n",
       "    </tr>\n",
       "  </tbody>\n",
       "</table>\n",
       "</div>"
      ],
      "text/plain": [
       "              Amount  refill_frequency        revenue   arpu_segment  \\\n",
       "count  978320.000000     978320.000000  999713.000000  999713.000000   \n",
       "mean     2361.212767         11.521423    2352.073152     784.027307   \n",
       "std      3028.954909         13.266779    3053.176864    1017.723634   \n",
       "min         4.270000          1.000000       0.430000       0.000000   \n",
       "25%       427.350000          2.000000     427.350000     142.310000   \n",
       "50%      1282.050000          7.000000    1282.050000     427.350000   \n",
       "75%      3141.030000         16.000000    3146.580000    1048.720000   \n",
       "max    124145.300000        133.000000  113696.580000   37898.720000   \n",
       "\n",
       "           frequency   data_volume         on_net      Procuct_1  \\\n",
       "count  999713.000000  7.660280e+05  957192.000000  881271.000000   \n",
       "mean       13.967657  3.354667e+03     278.000929      95.325088   \n",
       "std        14.682316  1.330460e+04     874.412483     203.328016   \n",
       "min         1.000000  0.000000e+00       0.000000       0.000000   \n",
       "25%         3.000000  0.000000e+00       5.000000       7.000000   \n",
       "50%         9.000000  2.560000e+02      27.000000      29.000000   \n",
       "75%        20.000000  2.879000e+03     156.000000      99.000000   \n",
       "max        91.000000  1.823866e+06   50809.000000   12040.000000   \n",
       "\n",
       "           Procuct_2          zone1         zone2    regularity  \\\n",
       "count  604784.000000  118986.000000  95505.000000  1.507834e+06   \n",
       "mean       23.146017       8.092187      7.465515  2.804414e+01   \n",
       "std        63.506893      40.739423     32.145740  2.228078e+01   \n",
       "min         0.000000       0.000000      0.000000  1.000000e+00   \n",
       "25%         2.000000       0.000000      0.000000  6.000000e+00   \n",
       "50%         6.000000       1.000000      2.000000  2.400000e+01   \n",
       "75%        20.000000       3.000000      5.000000  5.100000e+01   \n",
       "max      4174.000000    4792.000000   3143.000000  6.200000e+01   \n",
       "\n",
       "       freq_top_pack        Target  \n",
       "count  876011.000000  1.507834e+06  \n",
       "mean        9.263913  1.873648e-01  \n",
       "std        12.268658  3.902042e-01  \n",
       "min         1.000000  0.000000e+00  \n",
       "25%         2.000000  0.000000e+00  \n",
       "50%         5.000000  0.000000e+00  \n",
       "75%        12.000000  0.000000e+00  \n",
       "max       629.000000  1.000000e+00  "
      ]
     },
     "execution_count": 8,
     "metadata": {},
     "output_type": "execute_result"
    }
   ],
   "source": [
    "train.describe()"
   ]
  },
  {
   "cell_type": "code",
   "execution_count": 9,
   "id": "a907eb40",
   "metadata": {},
   "outputs": [
    {
     "data": {
      "text/html": [
       "<div>\n",
       "<style scoped>\n",
       "    .dataframe tbody tr th:only-of-type {\n",
       "        vertical-align: middle;\n",
       "    }\n",
       "\n",
       "    .dataframe tbody tr th {\n",
       "        vertical-align: top;\n",
       "    }\n",
       "\n",
       "    .dataframe thead th {\n",
       "        text-align: right;\n",
       "    }\n",
       "</style>\n",
       "<table border=\"1\" class=\"dataframe\">\n",
       "  <thead>\n",
       "    <tr style=\"text-align: right;\">\n",
       "      <th></th>\n",
       "      <th>Amount</th>\n",
       "      <th>refill_frequency</th>\n",
       "      <th>revenue</th>\n",
       "      <th>arpu_segment</th>\n",
       "      <th>frequency</th>\n",
       "      <th>data_volume</th>\n",
       "      <th>on_net</th>\n",
       "      <th>Procuct_1</th>\n",
       "      <th>Procuct_2</th>\n",
       "      <th>zone1</th>\n",
       "      <th>zone2</th>\n",
       "      <th>regularity</th>\n",
       "      <th>freq_top_pack</th>\n",
       "    </tr>\n",
       "  </thead>\n",
       "  <tbody>\n",
       "    <tr>\n",
       "      <th>count</th>\n",
       "      <td>247072.000000</td>\n",
       "      <td>247072.000000</td>\n",
       "      <td>252754.00000</td>\n",
       "      <td>252754.000000</td>\n",
       "      <td>252754.000000</td>\n",
       "      <td>193087.000000</td>\n",
       "      <td>241613.000000</td>\n",
       "      <td>222897.000000</td>\n",
       "      <td>153126.000000</td>\n",
       "      <td>29861.000000</td>\n",
       "      <td>24076.000000</td>\n",
       "      <td>380127.000000</td>\n",
       "      <td>221348.000000</td>\n",
       "    </tr>\n",
       "    <tr>\n",
       "      <th>mean</th>\n",
       "      <td>2361.094384</td>\n",
       "      <td>11.519853</td>\n",
       "      <td>2350.29115</td>\n",
       "      <td>783.433060</td>\n",
       "      <td>13.957963</td>\n",
       "      <td>3346.095454</td>\n",
       "      <td>278.806310</td>\n",
       "      <td>95.193008</td>\n",
       "      <td>23.052088</td>\n",
       "      <td>8.164663</td>\n",
       "      <td>7.655300</td>\n",
       "      <td>28.081699</td>\n",
       "      <td>9.261584</td>\n",
       "    </tr>\n",
       "    <tr>\n",
       "      <th>std</th>\n",
       "      <td>3041.162190</td>\n",
       "      <td>13.242743</td>\n",
       "      <td>3074.82589</td>\n",
       "      <td>1024.940158</td>\n",
       "      <td>14.652660</td>\n",
       "      <td>12002.653047</td>\n",
       "      <td>874.253933</td>\n",
       "      <td>203.950776</td>\n",
       "      <td>65.042688</td>\n",
       "      <td>48.857605</td>\n",
       "      <td>33.021478</td>\n",
       "      <td>22.289094</td>\n",
       "      <td>12.268907</td>\n",
       "    </tr>\n",
       "    <tr>\n",
       "      <th>min</th>\n",
       "      <td>10.680000</td>\n",
       "      <td>1.000000</td>\n",
       "      <td>0.43000</td>\n",
       "      <td>0.000000</td>\n",
       "      <td>1.000000</td>\n",
       "      <td>0.000000</td>\n",
       "      <td>0.000000</td>\n",
       "      <td>0.000000</td>\n",
       "      <td>0.000000</td>\n",
       "      <td>0.000000</td>\n",
       "      <td>0.000000</td>\n",
       "      <td>1.000000</td>\n",
       "      <td>1.000000</td>\n",
       "    </tr>\n",
       "    <tr>\n",
       "      <th>25%</th>\n",
       "      <td>427.350000</td>\n",
       "      <td>2.000000</td>\n",
       "      <td>427.35000</td>\n",
       "      <td>142.310000</td>\n",
       "      <td>3.000000</td>\n",
       "      <td>0.000000</td>\n",
       "      <td>5.000000</td>\n",
       "      <td>7.000000</td>\n",
       "      <td>2.000000</td>\n",
       "      <td>0.000000</td>\n",
       "      <td>0.000000</td>\n",
       "      <td>6.000000</td>\n",
       "      <td>2.000000</td>\n",
       "    </tr>\n",
       "    <tr>\n",
       "      <th>50%</th>\n",
       "      <td>1282.050000</td>\n",
       "      <td>7.000000</td>\n",
       "      <td>1282.05000</td>\n",
       "      <td>427.350000</td>\n",
       "      <td>9.000000</td>\n",
       "      <td>259.000000</td>\n",
       "      <td>27.000000</td>\n",
       "      <td>29.000000</td>\n",
       "      <td>6.000000</td>\n",
       "      <td>1.000000</td>\n",
       "      <td>2.000000</td>\n",
       "      <td>24.000000</td>\n",
       "      <td>5.000000</td>\n",
       "    </tr>\n",
       "    <tr>\n",
       "      <th>75%</th>\n",
       "      <td>3141.030000</td>\n",
       "      <td>16.000000</td>\n",
       "      <td>3141.45000</td>\n",
       "      <td>1047.010000</td>\n",
       "      <td>19.000000</td>\n",
       "      <td>2884.000000</td>\n",
       "      <td>157.000000</td>\n",
       "      <td>99.000000</td>\n",
       "      <td>20.000000</td>\n",
       "      <td>3.000000</td>\n",
       "      <td>5.000000</td>\n",
       "      <td>51.000000</td>\n",
       "      <td>12.000000</td>\n",
       "    </tr>\n",
       "    <tr>\n",
       "      <th>max</th>\n",
       "      <td>86111.110000</td>\n",
       "      <td>146.000000</td>\n",
       "      <td>85882.48000</td>\n",
       "      <td>28627.350000</td>\n",
       "      <td>91.000000</td>\n",
       "      <td>977796.000000</td>\n",
       "      <td>26786.000000</td>\n",
       "      <td>6345.000000</td>\n",
       "      <td>3708.000000</td>\n",
       "      <td>4215.000000</td>\n",
       "      <td>1649.000000</td>\n",
       "      <td>62.000000</td>\n",
       "      <td>390.000000</td>\n",
       "    </tr>\n",
       "  </tbody>\n",
       "</table>\n",
       "</div>"
      ],
      "text/plain": [
       "              Amount  refill_frequency       revenue   arpu_segment  \\\n",
       "count  247072.000000     247072.000000  252754.00000  252754.000000   \n",
       "mean     2361.094384         11.519853    2350.29115     783.433060   \n",
       "std      3041.162190         13.242743    3074.82589    1024.940158   \n",
       "min        10.680000          1.000000       0.43000       0.000000   \n",
       "25%       427.350000          2.000000     427.35000     142.310000   \n",
       "50%      1282.050000          7.000000    1282.05000     427.350000   \n",
       "75%      3141.030000         16.000000    3141.45000    1047.010000   \n",
       "max     86111.110000        146.000000   85882.48000   28627.350000   \n",
       "\n",
       "           frequency    data_volume         on_net      Procuct_1  \\\n",
       "count  252754.000000  193087.000000  241613.000000  222897.000000   \n",
       "mean       13.957963    3346.095454     278.806310      95.193008   \n",
       "std        14.652660   12002.653047     874.253933     203.950776   \n",
       "min         1.000000       0.000000       0.000000       0.000000   \n",
       "25%         3.000000       0.000000       5.000000       7.000000   \n",
       "50%         9.000000     259.000000      27.000000      29.000000   \n",
       "75%        19.000000    2884.000000     157.000000      99.000000   \n",
       "max        91.000000  977796.000000   26786.000000    6345.000000   \n",
       "\n",
       "           Procuct_2         zone1         zone2     regularity  freq_top_pack  \n",
       "count  153126.000000  29861.000000  24076.000000  380127.000000  221348.000000  \n",
       "mean       23.052088      8.164663      7.655300      28.081699       9.261584  \n",
       "std        65.042688     48.857605     33.021478      22.289094      12.268907  \n",
       "min         0.000000      0.000000      0.000000       1.000000       1.000000  \n",
       "25%         2.000000      0.000000      0.000000       6.000000       2.000000  \n",
       "50%         6.000000      1.000000      2.000000      24.000000       5.000000  \n",
       "75%        20.000000      3.000000      5.000000      51.000000      12.000000  \n",
       "max      3708.000000   4215.000000   1649.000000      62.000000     390.000000  "
      ]
     },
     "execution_count": 9,
     "metadata": {},
     "output_type": "execute_result"
    }
   ],
   "source": [
    "test.describe()"
   ]
  },
  {
   "cell_type": "code",
   "execution_count": 10,
   "id": "22881f52",
   "metadata": {},
   "outputs": [
    {
     "name": "stdout",
     "output_type": "stream",
     "text": [
      "<class 'pandas.core.frame.DataFrame'>\n",
      "RangeIndex: 1507834 entries, 0 to 1507833\n",
      "Data columns (total 19 columns):\n",
      " #   Column            Non-Null Count    Dtype  \n",
      "---  ------            --------------    -----  \n",
      " 0   ID                1507834 non-null  object \n",
      " 1   region            913743 non-null   object \n",
      " 2   tenure            1507834 non-null  object \n",
      " 3   Amount            978320 non-null   float64\n",
      " 4   refill_frequency  978320 non-null   float64\n",
      " 5   revenue           999713 non-null   float64\n",
      " 6   arpu_segment      999713 non-null   float64\n",
      " 7   frequency         999713 non-null   float64\n",
      " 8   data_volume       766028 non-null   float64\n",
      " 9   on_net            957192 non-null   float64\n",
      " 10  Procuct_1         881271 non-null   float64\n",
      " 11  Procuct_2         604784 non-null   float64\n",
      " 12  zone1             118986 non-null   float64\n",
      " 13  zone2             95505 non-null    float64\n",
      " 14  mrg               1507834 non-null  object \n",
      " 15  regularity        1507834 non-null  int64  \n",
      " 16  top_pack          876011 non-null   object \n",
      " 17  freq_top_pack     876011 non-null   float64\n",
      " 18  Target            1507834 non-null  int64  \n",
      "dtypes: float64(12), int64(2), object(5)\n",
      "memory usage: 218.6+ MB\n"
     ]
    }
   ],
   "source": [
    "train.info()"
   ]
  },
  {
   "cell_type": "code",
   "execution_count": 11,
   "id": "8189d65b",
   "metadata": {},
   "outputs": [
    {
     "name": "stdout",
     "output_type": "stream",
     "text": [
      "<class 'pandas.core.frame.DataFrame'>\n",
      "RangeIndex: 380127 entries, 0 to 380126\n",
      "Data columns (total 18 columns):\n",
      " #   Column            Non-Null Count   Dtype  \n",
      "---  ------            --------------   -----  \n",
      " 0   ID                380127 non-null  object \n",
      " 1   region            230399 non-null  object \n",
      " 2   tenure            380127 non-null  object \n",
      " 3   Amount            247072 non-null  float64\n",
      " 4   refill_frequency  247072 non-null  float64\n",
      " 5   revenue           252754 non-null  float64\n",
      " 6   arpu_segment      252754 non-null  float64\n",
      " 7   frequency         252754 non-null  float64\n",
      " 8   data_volume       193087 non-null  float64\n",
      " 9   on_net            241613 non-null  float64\n",
      " 10  Procuct_1         222897 non-null  float64\n",
      " 11  Procuct_2         153126 non-null  float64\n",
      " 12  zone1             29861 non-null   float64\n",
      " 13  zone2             24076 non-null   float64\n",
      " 14  mrg               380127 non-null  object \n",
      " 15  regularity        380127 non-null  int64  \n",
      " 16  top_pack          221348 non-null  object \n",
      " 17  freq_top_pack     221348 non-null  float64\n",
      "dtypes: float64(12), int64(1), object(5)\n",
      "memory usage: 52.2+ MB\n"
     ]
    }
   ],
   "source": [
    "test.info()"
   ]
  },
  {
   "cell_type": "code",
   "execution_count": 12,
   "id": "244da2f8",
   "metadata": {},
   "outputs": [
    {
     "name": "stdout",
     "output_type": "stream",
     "text": [
      "Target\n",
      "0    1225319\n",
      "1     282515\n",
      "Name: count, dtype: int64\n"
     ]
    }
   ],
   "source": [
    "# Count the occurrences of each unique value in the target variable\n",
    "target_counts = train['Target'].value_counts()\n",
    "\n",
    "# Print the counts\n",
    "print(target_counts)"
   ]
  },
  {
   "cell_type": "code",
   "execution_count": null,
   "id": "15d64680",
   "metadata": {},
   "outputs": [],
   "source": [
    "Assume missing data = customers didnt do anthing"
   ]
  },
  {
   "cell_type": "code",
   "execution_count": null,
   "id": "08afc442",
   "metadata": {},
   "outputs": [],
   "source": [
    "3.EDA"
   ]
  },
  {
   "cell_type": "code",
   "execution_count": 13,
   "id": "8cfe37b2",
   "metadata": {},
   "outputs": [
    {
     "data": {
      "image/png": "[encoded data removed]",
      "text/plain": [
       "<Figure size 800x600 with 1 Axes>"
      ]
     },
     "metadata": {},
     "output_type": "display_data"
    }
   ],
   "source": [
    "# Define labels\n",
    "labels = ['Not Churned', 'Churned']\n",
    "\n",
    "# Plot the pie chart\n",
    "plt.figure(figsize=(8, 6))\n",
    "plt.pie(target_counts, labels=labels, autopct='%1.1f%%', startangle=140)\n",
    "plt.title('Distribution of Target Variable')\n",
    "plt.axis('equal')  # Equal aspect ratio ensures that pie is drawn as a circle.\n",
    "plt.show()"
   ]
  },
  {
   "cell_type": "code",
   "execution_count": 14,
   "id": "a32438c8",
   "metadata": {},
   "outputs": [
    {
     "data": {
      "image/png": "[encoded data removed]",
      "text/plain": [
       "<Figure size 640x480 with 1 Axes>"
      ]
     },
     "metadata": {},
     "output_type": "display_data"
    }
   ],
   "source": [
    "# Group by region and churn status and count occurrences\n",
    "churn_counts = train.groupby(['region', 'Target']).size().unstack(fill_value=0)\n",
    "\n",
    "# Plotting\n",
    "churn_counts.plot(kind='bar', stacked=True, color=['#1f77b4', '#ff7f0e'])\n",
    "\n",
    "# Add labels and title\n",
    "plt.xlabel('Region')\n",
    "plt.ylabel('Counts')\n",
    "plt.title('Churn Counts by Region')\n",
    "\n",
    "# Show legend\n",
    "plt.legend(title='Churn', labels=['Not Churned', 'Churned'])\n",
    "\n",
    "# Show plot\n",
    "plt.tight_layout()\n",
    "plt.show()"
   ]
  },
  {
   "cell_type": "code",
   "execution_count": 15,
   "id": "e8aba35e",
   "metadata": {},
   "outputs": [
    {
     "data": {
      "image/png": "[encoded data removed]",
      "text/plain": [
       "<Figure size 640x480 with 1 Axes>"
      ]
     },
     "metadata": {},
     "output_type": "display_data"
    }
   ],
   "source": [
    "# Group by region and churn status and count occurrences\n",
    "churn_counts = train.groupby(['tenure', 'Target']).size().unstack(fill_value=0)\n",
    "\n",
    "# Plotting\n",
    "churn_counts.plot(kind='bar', stacked=True, color=['#1f77b4', '#ff7f0e'])\n",
    "\n",
    "# Add labels and title\n",
    "plt.xlabel('tenure')\n",
    "plt.ylabel('Counts')\n",
    "plt.title('Churn Counts by Region')\n",
    "\n",
    "# Show legend\n",
    "plt.legend(title='Churn', labels=['Not Churned', 'Churned'])\n",
    "\n",
    "# Show plot\n",
    "plt.tight_layout()\n",
    "plt.show()"
   ]
  },
  {
   "cell_type": "code",
   "execution_count": 16,
   "id": "5a15948c",
   "metadata": {},
   "outputs": [
    {
     "data": {
      "image/png": "[encoded data removed]",
      "text/plain": [
       "<Figure size 640x480 with 1 Axes>"
      ]
     },
     "metadata": {},
     "output_type": "display_data"
    }
   ],
   "source": [
    "# Group by churn and calculate mean revenue for each group\n",
    "churn_amount = train.groupby('Target')['Amount'].mean()\n",
    "\n",
    "# Plotting the bar chart\n",
    "plt.bar(churn_amount.index, churn_amount.values)\n",
    "plt.xlabel('Churn')\n",
    "plt.ylabel('Average Amount')\n",
    "plt.xticks(churn_amount.index, ['Not Churned', 'Churned'])\n",
    "plt.title('Average Amount by Churn')\n",
    "plt.show()"
   ]
  },
  {
   "cell_type": "code",
   "execution_count": 17,
   "id": "2d1544ba",
   "metadata": {},
   "outputs": [
    {
     "data": {
      "image/png": "[encoded data removed]",
      "text/plain": [
       "<Figure size 640x480 with 1 Axes>"
      ]
     },
     "metadata": {},
     "output_type": "display_data"
    }
   ],
   "source": [
    "# Group by churn and calculate mean revenue for each group\n",
    "churn_revenue = train.groupby('Target')['revenue'].mean()\n",
    "\n",
    "# Plotting the bar chart\n",
    "plt.bar(churn_revenue.index, churn_revenue.values)\n",
    "plt.xlabel('Churn')\n",
    "plt.ylabel('Average revenue')\n",
    "plt.xticks(churn_revenue.index, ['Not Churned', 'Churned'])\n",
    "plt.title('Average revenue by Churn')\n",
    "plt.show()"
   ]
  },
  {
   "cell_type": "code",
   "execution_count": 18,
   "id": "8989ec08",
   "metadata": {},
   "outputs": [
    {
     "data": {
      "image/png": "[encoded data removed]",
      "text/plain": [
       "<Figure size 640x480 with 1 Axes>"
      ]
     },
     "metadata": {},
     "output_type": "display_data"
    }
   ],
   "source": [
    "# Group by churn and calculate mean revenue for each group\n",
    "churn_data_volume = train.groupby('Target')['data_volume'].mean()\n",
    "\n",
    "# Plotting the bar chart\n",
    "plt.bar(churn_data_volume.index, churn_data_volume.values)\n",
    "plt.xlabel('Churn')\n",
    "plt.ylabel('Average data_volume')\n",
    "plt.xticks(churn_data_volume.index, ['Not Churned', 'Churned'])\n",
    "plt.title('Average data_volume by Churn')\n",
    "plt.show()"
   ]
  },
  {
   "cell_type": "code",
   "execution_count": 19,
   "id": "36dd0522",
   "metadata": {},
   "outputs": [
    {
     "data": {
      "image/png": "[encoded data removed]",
      "text/plain": [
       "<Figure size 640x480 with 1 Axes>"
      ]
     },
     "metadata": {},
     "output_type": "display_data"
    }
   ],
   "source": [
    "# Group by churn and calculate mean revenue for each group\n",
    "churn_frequency = train.groupby('Target')['frequency'].mean()\n",
    "\n",
    "# Plotting the bar chart\n",
    "plt.bar(churn_frequency.index, churn_frequency.values)\n",
    "plt.xlabel('Churn')\n",
    "plt.ylabel('Average frequency')\n",
    "plt.xticks(churn_frequency.index, ['Not Churned', 'Churned'])\n",
    "plt.title('Average on_frequency')\n",
    "plt.show()"
   ]
  },
  {
   "cell_type": "code",
   "execution_count": 20,
   "id": "e656b26a",
   "metadata": {},
   "outputs": [
    {
     "data": {
      "image/png": "[encoded data removed]",
      "text/plain": [
       "<Figure size 640x480 with 1 Axes>"
      ]
     },
     "metadata": {},
     "output_type": "display_data"
    }
   ],
   "source": [
    "# Group by churn and calculate mean revenue for each group\n",
    "churn_regularity = train.groupby('Target')['regularity'].mean()\n",
    "\n",
    "# Plotting the bar chart\n",
    "plt.bar(churn_regularity.index, churn_regularity.values)\n",
    "plt.xlabel('Churn')\n",
    "plt.ylabel('Average regularity')\n",
    "plt.xticks(churn_regularity.index, ['Not Churned', 'Churned'])\n",
    "plt.title('Average regularity by Churn')\n",
    "plt.show()"
   ]
  },
  {
   "cell_type": "code",
   "execution_count": 21,
   "id": "f9377126",
   "metadata": {},
   "outputs": [
    {
     "data": {
      "image/png": "[encoded data removed]",
      "text/plain": [
       "<Figure size 640x480 with 1 Axes>"
      ]
     },
     "metadata": {},
     "output_type": "display_data"
    }
   ],
   "source": [
    "# Group by churn and calculate mean revenue for each group\n",
    "churn_refill_frequency  = train.groupby('Target')['refill_frequency'].mean()\n",
    "\n",
    "# Plotting the bar chart\n",
    "plt.bar(churn_refill_frequency.index, churn_refill_frequency.values)\n",
    "plt.xlabel('Churn')\n",
    "plt.ylabel('Average refill_frequency')\n",
    "plt.xticks(churn_refill_frequency.index, ['Not Churned', 'Churned'])\n",
    "plt.title('Average refill_frequency by Churn')\n",
    "plt.show()"
   ]
  },
  {
   "cell_type": "code",
   "execution_count": 22,
   "id": "343830cf",
   "metadata": {},
   "outputs": [
    {
     "data": {
      "image/png": "[encoded data removed]",
      "text/plain": [
       "<Figure size 640x480 with 1 Axes>"
      ]
     },
     "metadata": {},
     "output_type": "display_data"
    }
   ],
   "source": [
    "# Group by churn and calculate mean revenue for each group\n",
    "churn_arpu_segment  = train.groupby('Target')['arpu_segment'].mean()\n",
    "\n",
    "# Plotting the bar chart\n",
    "plt.bar(churn_arpu_segment.index, churn_arpu_segment.values)\n",
    "plt.xlabel('Churn')\n",
    "plt.ylabel('Average arpu_segment')\n",
    "plt.xticks(churn_arpu_segment.index, ['Not Churned', 'Churned'])\n",
    "plt.title('Average arpu_segment by Churn')\n",
    "plt.show()"
   ]
  },
  {
   "cell_type": "code",
   "execution_count": 23,
   "id": "cfeb3699",
   "metadata": {},
   "outputs": [
    {
     "data": {
      "image/png": "[encoded data removed]",
      "text/plain": [
       "<Figure size 640x480 with 1 Axes>"
      ]
     },
     "metadata": {},
     "output_type": "display_data"
    }
   ],
   "source": [
    "# Group by churn and calculate mean revenue for each group\n",
    "churn_on_net = train.groupby('Target')['on_net'].mean()\n",
    "\n",
    "# Plotting the bar chart\n",
    "plt.bar(churn_on_net.index, churn_on_net.values)\n",
    "plt.xlabel('Churn')\n",
    "plt.ylabel('Average on_net')\n",
    "plt.xticks(churn_on_net.index, ['Not Churned', 'Churned'])\n",
    "plt.title('Average on_net  by Churn')\n",
    "plt.show()"
   ]
  },
  {
   "cell_type": "code",
   "execution_count": 24,
   "id": "3009a605",
   "metadata": {},
   "outputs": [
    {
     "data": {
      "image/png": "[encoded data removed]",
      "text/plain": [
       "<Figure size 640x480 with 1 Axes>"
      ]
     },
     "metadata": {},
     "output_type": "display_data"
    }
   ],
   "source": [
    "# Group by churn and calculate mean revenue for each group\n",
    "churn_Procuct_1 = train.groupby('Target')['Procuct_1'].mean()\n",
    "\n",
    "# Plotting the bar chart\n",
    "plt.bar(churn_Procuct_1.index, churn_Procuct_1.values)\n",
    "plt.xlabel('Churn')\n",
    "plt.ylabel('Average Procuct_1')\n",
    "plt.xticks(churn_Procuct_1.index, ['Not Churned', 'Churned'])\n",
    "plt.title('Average Procuct_1  by Churn')\n",
    "plt.show()"
   ]
  },
  {
   "cell_type": "code",
   "execution_count": 25,
   "id": "b10c22f7",
   "metadata": {},
   "outputs": [
    {
     "data": {
      "image/png": "[encoded data removed]",
      "text/plain": [
       "<Figure size 640x480 with 1 Axes>"
      ]
     },
     "metadata": {},
     "output_type": "display_data"
    }
   ],
   "source": [
    "# Group by churn and calculate mean revenue for each group\n",
    "churn_Procuct_2 = train.groupby('Target')['Procuct_2'].mean()\n",
    "\n",
    "# Plotting the bar chart\n",
    "plt.bar(churn_Procuct_2.index, churn_Procuct_2.values)\n",
    "plt.xlabel('Churn')\n",
    "plt.ylabel('Average Procuct_2')\n",
    "plt.xticks(churn_Procuct_2.index, ['Not Churned', 'Churned'])\n",
    "plt.title('Average Procuct_2  by Churn')\n",
    "plt.show()"
   ]
  },
  {
   "cell_type": "code",
   "execution_count": 26,
   "id": "41e1f869",
   "metadata": {},
   "outputs": [
    {
     "data": {
      "image/png": "[encoded data removed]",
      "text/plain": [
       "<Figure size 640x480 with 1 Axes>"
      ]
     },
     "metadata": {},
     "output_type": "display_data"
    }
   ],
   "source": [
    "# Group by churn and calculate mean revenue for each group\n",
    "churn_freq_top_pack = train.groupby('Target')['freq_top_pack'].mean()\n",
    "\n",
    "# Plotting the bar chart\n",
    "plt.bar(churn_Procuct_2.index, churn_freq_top_pack.values)\n",
    "plt.xlabel('Churn')\n",
    "plt.ylabel('Average freq_top_pack')\n",
    "plt.xticks(churn_freq_top_pack.index, ['Not Churned', 'Churned'])\n",
    "plt.title('Average freq_top_pack by Churn')\n",
    "plt.show()"
   ]
  },
  {
   "cell_type": "code",
   "execution_count": null,
   "id": "db6b3d68",
   "metadata": {},
   "outputs": [],
   "source": []
  },
  {
   "cell_type": "code",
   "execution_count": 27,
   "id": "0f30a7fb",
   "metadata": {},
   "outputs": [
    {
     "ename": "SyntaxError",
     "evalue": "invalid decimal literal (3725156156.py, line 1)",
     "output_type": "error",
     "traceback": [
      "\u001b[1;36m  Cell \u001b[1;32mIn[27], line 1\u001b[1;36m\u001b[0m\n\u001b[1;33m    3.Data missing\u001b[0m\n\u001b[1;37m     ^\u001b[0m\n\u001b[1;31mSyntaxError\u001b[0m\u001b[1;31m:\u001b[0m invalid decimal literal\n"
     ]
    }
   ],
   "source": [
    "3.Data missing "
   ]
  },
  {
   "cell_type": "code",
   "execution_count": 28,
   "id": "13c70f88",
   "metadata": {},
   "outputs": [
    {
     "name": "stdout",
     "output_type": "stream",
     "text": [
      "ID                   0.000000\n",
      "region              39.400292\n",
      "tenure               0.000000\n",
      "Amount              35.117526\n",
      "refill_frequency    35.117526\n",
      "revenue             33.698736\n",
      "arpu_segment        33.698736\n",
      "frequency           33.698736\n",
      "data_volume         49.196795\n",
      "on_net              36.518741\n",
      "Procuct_1           41.553845\n",
      "Procuct_2           59.890545\n",
      "zone1               92.108813\n",
      "zone2               93.666080\n",
      "mrg                  0.000000\n",
      "regularity           0.000000\n",
      "top_pack            41.902690\n",
      "freq_top_pack       41.902690\n",
      "Target               0.000000\n",
      "dtype: float64\n"
     ]
    }
   ],
   "source": [
    "#missing values\n",
    "missing_percentage_train = train.isnull().mean() *100\n",
    "print(missing_percentage_train)"
   ]
  },
  {
   "cell_type": "code",
   "execution_count": null,
   "id": "6cff7f41",
   "metadata": {},
   "outputs": [],
   "source": [
    "Observations:\n",
    "    -ID, tenure, mrg and regularity has no missing values\n",
    "    -drop mrg has it has only 1 value\n",
    "    -drop zone1 and zone2 as the column is close to 92% empty, it doesnt make sense to impute with mean"
   ]
  },
  {
   "cell_type": "code",
   "execution_count": 29,
   "id": "d36ca231",
   "metadata": {},
   "outputs": [
    {
     "name": "stdout",
     "output_type": "stream",
     "text": [
      "ID                   0.000000\n",
      "region              39.388941\n",
      "tenure               0.000000\n",
      "Amount              35.002775\n",
      "refill_frequency    35.002775\n",
      "revenue             33.508012\n",
      "arpu_segment        33.508012\n",
      "frequency           33.508012\n",
      "data_volume         49.204608\n",
      "on_net              36.438874\n",
      "Procuct_1           41.362492\n",
      "Procuct_2           59.717147\n",
      "zone1               92.144468\n",
      "zone2               93.666327\n",
      "mrg                  0.000000\n",
      "regularity           0.000000\n",
      "top_pack            41.769987\n",
      "freq_top_pack       41.769987\n",
      "dtype: float64\n"
     ]
    }
   ],
   "source": [
    "#missing values\n",
    "missing_percentage_test = test.isnull().mean() *100\n",
    "print(missing_percentage_test)"
   ]
  },
  {
   "cell_type": "code",
   "execution_count": null,
   "id": "654489db",
   "metadata": {},
   "outputs": [],
   "source": []
  },
  {
   "cell_type": "code",
   "execution_count": null,
   "id": "9619842e",
   "metadata": {},
   "outputs": [],
   "source": [
    "4. Data Cleaning"
   ]
  },
  {
   "cell_type": "code",
   "execution_count": 30,
   "id": "529efbae",
   "metadata": {},
   "outputs": [],
   "source": [
    "# Drop features zone1 and zone2\n",
    "train = train.drop(columns=[\"zone1\", \"zone2\", \"mrg\"])"
   ]
  },
  {
   "cell_type": "code",
   "execution_count": 31,
   "id": "0a97769e",
   "metadata": {},
   "outputs": [],
   "source": [
    "# Drop features zone1 and zone2\n",
    "\n",
    "test= test.drop(columns=[\"zone1\", \"zone2\", \"mrg\"])"
   ]
  },
  {
   "cell_type": "code",
   "execution_count": null,
   "id": "9e303642",
   "metadata": {},
   "outputs": [],
   "source": []
  },
  {
   "cell_type": "code",
   "execution_count": 32,
   "id": "33c443a6",
   "metadata": {},
   "outputs": [],
   "source": [
    "#Handling missing value in categorical variable i.e. 'Region' and 'top_pack'\n",
    "\n",
    "categorical_columns = ['region', 'top_pack']\n",
    "\n",
    "for col in categorical_columns:\n",
    "    train[col].fillna('missing', inplace=True)\n",
    "    \n",
    "for col in categorical_columns:\n",
    "    test[col].fillna('missing', inplace=True)\n",
    "    "
   ]
  },
  {
   "cell_type": "code",
   "execution_count": 33,
   "id": "5d66ebda",
   "metadata": {},
   "outputs": [],
   "source": [
    "#Handling missing values in Numeric variables\n",
    "\n",
    "numeric_columns = ['Amount', 'refill_frequency', 'revenue', 'arpu_segment', 'frequency', 'data_volume', 'on_net', 'Procuct_1', 'Procuct_2', 'freq_top_pack']\n",
    "\n",
    "# Replace missing values in numeric columns with -99\n",
    "for col in numeric_columns:\n",
    "    train[col].fillna(-99, inplace=True)\n",
    "    \n",
    "# Replace missing values in numeric columns with -99\n",
    "for col in numeric_columns:\n",
    "    test[col].fillna(-99, inplace=True)\n"
   ]
  },
  {
   "cell_type": "code",
   "execution_count": 34,
   "id": "b6e2ffda",
   "metadata": {},
   "outputs": [
    {
     "data": {
      "text/plain": [
       "ID                  0\n",
       "region              0\n",
       "tenure              0\n",
       "Amount              0\n",
       "refill_frequency    0\n",
       "revenue             0\n",
       "arpu_segment        0\n",
       "frequency           0\n",
       "data_volume         0\n",
       "on_net              0\n",
       "Procuct_1           0\n",
       "Procuct_2           0\n",
       "regularity          0\n",
       "top_pack            0\n",
       "freq_top_pack       0\n",
       "Target              0\n",
       "dtype: int64"
      ]
     },
     "execution_count": 34,
     "metadata": {},
     "output_type": "execute_result"
    }
   ],
   "source": [
    "train.isnull().sum()"
   ]
  },
  {
   "cell_type": "code",
   "execution_count": null,
   "id": "2b4a8e08",
   "metadata": {},
   "outputs": [],
   "source": []
  },
  {
   "cell_type": "code",
   "execution_count": null,
   "id": "a7cab2ea",
   "metadata": {},
   "outputs": [],
   "source": [
    "5.Feature Engineering"
   ]
  },
  {
   "cell_type": "code",
   "execution_count": 35,
   "id": "e7bba8ec",
   "metadata": {},
   "outputs": [],
   "source": [
    "#Label encoding on feature with many categories like ‘Top_pack’\n",
    "\n",
    "label_encoder = LabelEncoder()\n",
    "train['top_pack'] = label_encoder.fit_transform(train['top_pack'])\n",
    "\n",
    "test['top_pack'] = label_encoder.fit_transform(test['top_pack'])\n"
   ]
  },
  {
   "cell_type": "code",
   "execution_count": 36,
   "id": "2f5c54e6",
   "metadata": {},
   "outputs": [],
   "source": [
    "#Dummy variables on feature with few categories like  ‘Region’\n",
    "\n",
    "# Convert 'Region' into dummy variables\n",
    "train = pd.get_dummies(train, columns=['region', 'tenure'], drop_first=True)\n",
    "test = pd.get_dummies(test, columns=['region', 'tenure'], drop_first=True)"
   ]
  },
  {
   "cell_type": "code",
   "execution_count": null,
   "id": "a64fadb5",
   "metadata": {},
   "outputs": [],
   "source": []
  },
  {
   "cell_type": "code",
   "execution_count": null,
   "id": "96163609",
   "metadata": {},
   "outputs": [],
   "source": [
    "7.Data Scaling"
   ]
  },
  {
   "cell_type": "code",
   "execution_count": 37,
   "id": "27f34df4",
   "metadata": {},
   "outputs": [],
   "source": [
    "#Remove ID and target and create x variable and y variable\n",
    "X = train.drop(columns=[\"ID\", \"Target\"])\n",
    "y =train[\"Target\"]\n",
    "\n",
    "test_final = test.drop(columns=[\"ID\"])"
   ]
  },
  {
   "cell_type": "code",
   "execution_count": null,
   "id": "23cf629d",
   "metadata": {},
   "outputs": [],
   "source": []
  },
  {
   "cell_type": "code",
   "execution_count": null,
   "id": "cd38a35a",
   "metadata": {},
   "outputs": [],
   "source": [
    "8.Dataset Imbalance"
   ]
  },
  {
   "cell_type": "code",
   "execution_count": 38,
   "id": "5e39ebe7",
   "metadata": {},
   "outputs": [],
   "source": [
    "#Address imbalance dataset by SMOTE\n",
    "\n",
    "from imblearn.over_sampling import SMOTE\n",
    "\n",
    "smote = SMOTE(random_state=42)\n",
    "X_resampled, y_resampled = smote.fit_resample(X, y)"
   ]
  },
  {
   "cell_type": "code",
   "execution_count": 39,
   "id": "c097d4c5",
   "metadata": {},
   "outputs": [
    {
     "name": "stdout",
     "output_type": "stream",
     "text": [
      "After SMOTE: Counter({0: 1225319, 1: 1225319})\n"
     ]
    }
   ],
   "source": [
    "# Check class distribution after SMOTE\n",
    "\n",
    "from collections import Counter\n",
    "print(\"After SMOTE:\", Counter(y_resampled))"
   ]
  },
  {
   "cell_type": "code",
   "execution_count": null,
   "id": "41cd4c7c",
   "metadata": {},
   "outputs": [],
   "source": []
  },
  {
   "cell_type": "code",
   "execution_count": 40,
   "id": "62d7d1d3",
   "metadata": {},
   "outputs": [],
   "source": [
    "# Initialize RobustScaler\n",
    "scaler = RobustScaler()\n",
    "\n",
    "\n",
    "# Fit scaler to the data and transform it\n",
    "train_scaled = scaler.fit_transform(X_resampled)\n",
    "\n",
    "# Fit scaler to the data and transform it\n",
    "test_final_scaled = scaler.transform(test_final)\n"
   ]
  },
  {
   "cell_type": "code",
   "execution_count": 41,
   "id": "161f5c45",
   "metadata": {},
   "outputs": [],
   "source": [
    "# Split the data into 80% training and 20% testing data\n",
    "X_train, X_test, y_train, y_test = train_test_split(train_scaled, y_resampled, test_size=0.2, random_state=42)"
   ]
  },
  {
   "cell_type": "code",
   "execution_count": null,
   "id": "94c84caa",
   "metadata": {},
   "outputs": [],
   "source": []
  },
  {
   "cell_type": "code",
   "execution_count": null,
   "id": "6782332c",
   "metadata": {},
   "outputs": [],
   "source": [
    "1.Classifer Model Selection"
   ]
  },
  {
   "cell_type": "code",
   "execution_count": 42,
   "id": "5ef6887e",
   "metadata": {},
   "outputs": [],
   "source": [
    "import time\n",
    "from lightgbm import LGBMClassifier\n",
    "from catboost import CatBoostClassifier\n",
    "from xgboost import XGBClassifier"
   ]
  },
  {
   "cell_type": "code",
   "execution_count": 43,
   "id": "34ee97e7",
   "metadata": {},
   "outputs": [],
   "source": [
    "classifiers = [\n",
    "    ('LGBM', LGBMClassifier(random_state=42)),\n",
    "    ('CatBoost', CatBoostClassifier(random_state=42, verbose=False)),\n",
    "    ('XGBoost', XGBClassifier(random_state=42))\n",
    "]\n"
   ]
  },
  {
   "cell_type": "code",
   "execution_count": 44,
   "id": "1467983d",
   "metadata": {},
   "outputs": [
    {
     "name": "stdout",
     "output_type": "stream",
     "text": [
      "[LightGBM] [Info] Number of positive: 980648, number of negative: 979862\n",
      "[LightGBM] [Info] Auto-choosing row-wise multi-threading, the overhead of testing was 0.167317 seconds.\n",
      "You can set `force_row_wise=true` to remove the overhead.\n",
      "And if memory is not enough, you can set `force_col_wise=true`.\n",
      "[LightGBM] [Info] Total Bins 2699\n",
      "[LightGBM] [Info] Number of data points in the train set: 1960510, number of used features: 33\n",
      "[LightGBM] [Info] [binary:BoostFromScore]: pavg=0.500200 -> initscore=0.000802\n",
      "[LightGBM] [Info] Start training from score 0.000802\n"
     ]
    }
   ],
   "source": [
    "f1_scores = []\n",
    "runtimes = []\n",
    "\n",
    "for name, clf in classifiers:\n",
    "    start_time = time.time()\n",
    "    clf.fit(X_train, y_train)\n",
    "    end_time = time.time()\n",
    "    runtime = end_time - start_time\n",
    "    runtimes.append(runtime)\n",
    "    \n",
    "    y_pred = clf.predict(X_test)\n",
    "    f1 = f1_score(y_test, y_pred)\n",
    "    f1_scores.append(f1)"
   ]
  },
  {
   "cell_type": "code",
   "execution_count": 68,
   "id": "8d794d3f",
   "metadata": {},
   "outputs": [
    {
     "data": {
      "image/png": "[encoded data removed]",
      "text/plain": [
       "<Figure size 1100x1100 with 2 Axes>"
      ]
     },
     "metadata": {},
     "output_type": "display_data"
    }
   ],
   "source": [
    "# Plotting\n",
    "fig, ax = plt.subplots(figsize=(11, 11))\n",
    "\n",
    "x = np.arange(len(classifiers))\n",
    "width = 0.35\n",
    "\n",
    "bars = ax.bar(x - width/2, f1_scores, width, label='F1 Score')\n",
    "ax2 = ax.twinx()\n",
    "bars2 = ax2.bar(x + width/2, runtimes, width, color='orange', label='Runtime (s)')\n",
    "\n",
    "ax.set_xlabel('Classifier')\n",
    "ax.set_ylabel('F1 Score')\n",
    "ax2.set_ylabel('Runtime (s)')\n",
    "ax.set_title('F1 Score and Runtime Comparison')\n",
    "ax.set_xticks(x)\n",
    "ax.set_xticklabels([name for name, _ in classifiers])\n",
    "ax.legend(loc='upper left')\n",
    "ax2.legend(loc='upper right')\n",
    "\n",
    "# Adding numeric labels to each bar\n",
    "for bar, f1 in zip(bars, f1_scores):\n",
    "    ax.text(bar.get_x() + bar.get_width() / 2, bar.get_height(),\n",
    "            f'{f1:.2f}', ha='center', va='bottom')\n",
    "\n",
    "for bar, runtime in zip(bars2, runtimes):\n",
    "    ax2.text(bar.get_x() + bar.get_width() / 2, bar.get_height(),\n",
    "            f'{runtime:.2f}', ha='center', va='bottom', color='black')\n",
    "\n",
    "plt.show()"
   ]
  },
  {
   "cell_type": "code",
   "execution_count": null,
   "id": "27951d93",
   "metadata": {},
   "outputs": [],
   "source": []
  },
  {
   "cell_type": "code",
   "execution_count": null,
   "id": "8d2fae05",
   "metadata": {},
   "outputs": [],
   "source": [
    "10.Model Building and Evaluation"
   ]
  },
  {
   "cell_type": "code",
   "execution_count": 45,
   "id": "956c4c38",
   "metadata": {},
   "outputs": [],
   "source": [
    "from sklearn.datasets import make_classification\n",
    "from sklearn.ensemble import VotingClassifier\n"
   ]
  },
  {
   "cell_type": "code",
   "execution_count": 46,
   "id": "d7234443",
   "metadata": {},
   "outputs": [],
   "source": [
    "# Initialize classifiers\n",
    "lgbm_clf = LGBMClassifier(random_state=42)\n",
    "catboost_clf = CatBoostClassifier(random_state=42, verbose=False)\n",
    "xgboost_clf = XGBClassifier(random_state=42)"
   ]
  },
  {
   "cell_type": "code",
   "execution_count": 47,
   "id": "5ba6f5d6",
   "metadata": {},
   "outputs": [],
   "source": [
    "\n",
    "# Create a voting classifier\n",
    "voting_clf = VotingClassifier(estimators=[\n",
    "    ('lgbm', lgbm_clf),\n",
    "    ('catboost', catboost_clf),\n",
    "    ('xgboost', xgboost_clf)\n",
    "], voting='soft')  # Use soft voting"
   ]
  },
  {
   "cell_type": "code",
   "execution_count": 48,
   "id": "d4e56d25",
   "metadata": {},
   "outputs": [
    {
     "name": "stdout",
     "output_type": "stream",
     "text": [
      "[LightGBM] [Info] Number of positive: 980648, number of negative: 979862\n",
      "[LightGBM] [Info] Auto-choosing row-wise multi-threading, the overhead of testing was 0.168606 seconds.\n",
      "You can set `force_row_wise=true` to remove the overhead.\n",
      "And if memory is not enough, you can set `force_col_wise=true`.\n",
      "[LightGBM] [Info] Total Bins 2699\n",
      "[LightGBM] [Info] Number of data points in the train set: 1960510, number of used features: 33\n",
      "[LightGBM] [Info] [binary:BoostFromScore]: pavg=0.500200 -> initscore=0.000802\n",
      "[LightGBM] [Info] Start training from score 0.000802\n"
     ]
    },
    {
     "data": {
      "text/html": [
       "<style>#sk-container-id-1 {\n",
       "  /* Definition of color scheme common for light and dark mode */\n",
       "  --sklearn-color-text: black;\n",
       "  --sklearn-color-line: gray;\n",
       "  /* Definition of color scheme for unfitted estimators */\n",
       "  --sklearn-color-unfitted-level-0: #fff5e6;\n",
       "  --sklearn-color-unfitted-level-1: #f6e4d2;\n",
       "  --sklearn-color-unfitted-level-2: #ffe0b3;\n",
       "  --sklearn-color-unfitted-level-3: chocolate;\n",
       "  /* Definition of color scheme for fitted estimators */\n",
       "  --sklearn-color-fitted-level-0: #f0f8ff;\n",
       "  --sklearn-color-fitted-level-1: #d4ebff;\n",
       "  --sklearn-color-fitted-level-2: #b3dbfd;\n",
       "  --sklearn-color-fitted-level-3: cornflowerblue;\n",
       "\n",
       "  /* Specific color for light theme */\n",
       "  --sklearn-color-text-on-default-background: var(--sg-text-color, var(--theme-code-foreground, var(--jp-content-font-color1, black)));\n",
       "  --sklearn-color-background: var(--sg-background-color, var(--theme-background, var(--jp-layout-color0, white)));\n",
       "  --sklearn-color-border-box: var(--sg-text-color, var(--theme-code-foreground, var(--jp-content-font-color1, black)));\n",
       "  --sklearn-color-icon: #696969;\n",
       "\n",
       "  @media (prefers-color-scheme: dark) {\n",
       "    /* Redefinition of color scheme for dark theme */\n",
       "    --sklearn-color-text-on-default-background: var(--sg-text-color, var(--theme-code-foreground, var(--jp-content-font-color1, white)));\n",
       "    --sklearn-color-background: var(--sg-background-color, var(--theme-background, var(--jp-layout-color0, #111)));\n",
       "    --sklearn-color-border-box: var(--sg-text-color, var(--theme-code-foreground, var(--jp-content-font-color1, white)));\n",
       "    --sklearn-color-icon: #878787;\n",
       "  }\n",
       "}\n",
       "\n",
       "#sk-container-id-1 {\n",
       "  color: var(--sklearn-color-text);\n",
       "}\n",
       "\n",
       "#sk-container-id-1 pre {\n",
       "  padding: 0;\n",
       "}\n",
       "\n",
       "#sk-container-id-1 input.sk-hidden--visually {\n",
       "  border: 0;\n",
       "  clip: rect(1px 1px 1px 1px);\n",
       "  clip: rect(1px, 1px, 1px, 1px);\n",
       "  height: 1px;\n",
       "  margin: -1px;\n",
       "  overflow: hidden;\n",
       "  padding: 0;\n",
       "  position: absolute;\n",
       "  width: 1px;\n",
       "}\n",
       "\n",
       "#sk-container-id-1 div.sk-dashed-wrapped {\n",
       "  border: 1px dashed var(--sklearn-color-line);\n",
       "  margin: 0 0.4em 0.5em 0.4em;\n",
       "  box-sizing: border-box;\n",
       "  padding-bottom: 0.4em;\n",
       "  background-color: var(--sklearn-color-background);\n",
       "}\n",
       "\n",
       "#sk-container-id-1 div.sk-container {\n",
       "  /* jupyter's `normalize.less` sets `[hidden] { display: none; }`\n",
       "     but bootstrap.min.css set `[hidden] { display: none !important; }`\n",
       "     so we also need the `!important` here to be able to override the\n",
       "     default hidden behavior on the sphinx rendered scikit-learn.org.\n",
       "     See: https://github.com/scikit-learn/scikit-learn/issues/21755 */\n",
       "  display: inline-block !important;\n",
       "  position: relative;\n",
       "}\n",
       "\n",
       "#sk-container-id-1 div.sk-text-repr-fallback {\n",
       "  display: none;\n",
       "}\n",
       "\n",
       "div.sk-parallel-item,\n",
       "div.sk-serial,\n",
       "div.sk-item {\n",
       "  /* draw centered vertical line to link estimators */\n",
       "  background-image: linear-gradient(var(--sklearn-color-text-on-default-background), var(--sklearn-color-text-on-default-background));\n",
       "  background-size: 2px 100%;\n",
       "  background-repeat: no-repeat;\n",
       "  background-position: center center;\n",
       "}\n",
       "\n",
       "/* Parallel-specific style estimator block */\n",
       "\n",
       "#sk-container-id-1 div.sk-parallel-item::after {\n",
       "  content: \"\";\n",
       "  width: 100%;\n",
       "  border-bottom: 2px solid var(--sklearn-color-text-on-default-background);\n",
       "  flex-grow: 1;\n",
       "}\n",
       "\n",
       "#sk-container-id-1 div.sk-parallel {\n",
       "  display: flex;\n",
       "  align-items: stretch;\n",
       "  justify-content: center;\n",
       "  background-color: var(--sklearn-color-background);\n",
       "  position: relative;\n",
       "}\n",
       "\n",
       "#sk-container-id-1 div.sk-parallel-item {\n",
       "  display: flex;\n",
       "  flex-direction: column;\n",
       "}\n",
       "\n",
       "#sk-container-id-1 div.sk-parallel-item:first-child::after {\n",
       "  align-self: flex-end;\n",
       "  width: 50%;\n",
       "}\n",
       "\n",
       "#sk-container-id-1 div.sk-parallel-item:last-child::after {\n",
       "  align-self: flex-start;\n",
       "  width: 50%;\n",
       "}\n",
       "\n",
       "#sk-container-id-1 div.sk-parallel-item:only-child::after {\n",
       "  width: 0;\n",
       "}\n",
       "\n",
       "/* Serial-specific style estimator block */\n",
       "\n",
       "#sk-container-id-1 div.sk-serial {\n",
       "  display: flex;\n",
       "  flex-direction: column;\n",
       "  align-items: center;\n",
       "  background-color: var(--sklearn-color-background);\n",
       "  padding-right: 1em;\n",
       "  padding-left: 1em;\n",
       "}\n",
       "\n",
       "\n",
       "/* Toggleable style: style used for estimator/Pipeline/ColumnTransformer box that is\n",
       "clickable and can be expanded/collapsed.\n",
       "- Pipeline and ColumnTransformer use this feature and define the default style\n",
       "- Estimators will overwrite some part of the style using the `sk-estimator` class\n",
       "*/\n",
       "\n",
       "/* Pipeline and ColumnTransformer style (default) */\n",
       "\n",
       "#sk-container-id-1 div.sk-toggleable {\n",
       "  /* Default theme specific background. It is overwritten whether we have a\n",
       "  specific estimator or a Pipeline/ColumnTransformer */\n",
       "  background-color: var(--sklearn-color-background);\n",
       "}\n",
       "\n",
       "/* Toggleable label */\n",
       "#sk-container-id-1 label.sk-toggleable__label {\n",
       "  cursor: pointer;\n",
       "  display: block;\n",
       "  width: 100%;\n",
       "  margin-bottom: 0;\n",
       "  padding: 0.5em;\n",
       "  box-sizing: border-box;\n",
       "  text-align: center;\n",
       "}\n",
       "\n",
       "#sk-container-id-1 label.sk-toggleable__label-arrow:before {\n",
       "  /* Arrow on the left of the label */\n",
       "  content: \"▸\";\n",
       "  float: left;\n",
       "  margin-right: 0.25em;\n",
       "  color: var(--sklearn-color-icon);\n",
       "}\n",
       "\n",
       "#sk-container-id-1 label.sk-toggleable__label-arrow:hover:before {\n",
       "  color: var(--sklearn-color-text);\n",
       "}\n",
       "\n",
       "/* Toggleable content - dropdown */\n",
       "\n",
       "#sk-container-id-1 div.sk-toggleable__content {\n",
       "  max-height: 0;\n",
       "  max-width: 0;\n",
       "  overflow: hidden;\n",
       "  text-align: left;\n",
       "  /* unfitted */\n",
       "  background-color: var(--sklearn-color-unfitted-level-0);\n",
       "}\n",
       "\n",
       "#sk-container-id-1 div.sk-toggleable__content.fitted {\n",
       "  /* fitted */\n",
       "  background-color: var(--sklearn-color-fitted-level-0);\n",
       "}\n",
       "\n",
       "#sk-container-id-1 div.sk-toggleable__content pre {\n",
       "  margin: 0.2em;\n",
       "  border-radius: 0.25em;\n",
       "  color: var(--sklearn-color-text);\n",
       "  /* unfitted */\n",
       "  background-color: var(--sklearn-color-unfitted-level-0);\n",
       "}\n",
       "\n",
       "#sk-container-id-1 div.sk-toggleable__content.fitted pre {\n",
       "  /* unfitted */\n",
       "  background-color: var(--sklearn-color-fitted-level-0);\n",
       "}\n",
       "\n",
       "#sk-container-id-1 input.sk-toggleable__control:checked~div.sk-toggleable__content {\n",
       "  /* Expand drop-down */\n",
       "  max-height: 200px;\n",
       "  max-width: 100%;\n",
       "  overflow: auto;\n",
       "}\n",
       "\n",
       "#sk-container-id-1 input.sk-toggleable__control:checked~label.sk-toggleable__label-arrow:before {\n",
       "  content: \"▾\";\n",
       "}\n",
       "\n",
       "/* Pipeline/ColumnTransformer-specific style */\n",
       "\n",
       "#sk-container-id-1 div.sk-label input.sk-toggleable__control:checked~label.sk-toggleable__label {\n",
       "  color: var(--sklearn-color-text);\n",
       "  background-color: var(--sklearn-color-unfitted-level-2);\n",
       "}\n",
       "\n",
       "#sk-container-id-1 div.sk-label.fitted input.sk-toggleable__control:checked~label.sk-toggleable__label {\n",
       "  background-color: var(--sklearn-color-fitted-level-2);\n",
       "}\n",
       "\n",
       "/* Estimator-specific style */\n",
       "\n",
       "/* Colorize estimator box */\n",
       "#sk-container-id-1 div.sk-estimator input.sk-toggleable__control:checked~label.sk-toggleable__label {\n",
       "  /* unfitted */\n",
       "  background-color: var(--sklearn-color-unfitted-level-2);\n",
       "}\n",
       "\n",
       "#sk-container-id-1 div.sk-estimator.fitted input.sk-toggleable__control:checked~label.sk-toggleable__label {\n",
       "  /* fitted */\n",
       "  background-color: var(--sklearn-color-fitted-level-2);\n",
       "}\n",
       "\n",
       "#sk-container-id-1 div.sk-label label.sk-toggleable__label,\n",
       "#sk-container-id-1 div.sk-label label {\n",
       "  /* The background is the default theme color */\n",
       "  color: var(--sklearn-color-text-on-default-background);\n",
       "}\n",
       "\n",
       "/* On hover, darken the color of the background */\n",
       "#sk-container-id-1 div.sk-label:hover label.sk-toggleable__label {\n",
       "  color: var(--sklearn-color-text);\n",
       "  background-color: var(--sklearn-color-unfitted-level-2);\n",
       "}\n",
       "\n",
       "/* Label box, darken color on hover, fitted */\n",
       "#sk-container-id-1 div.sk-label.fitted:hover label.sk-toggleable__label.fitted {\n",
       "  color: var(--sklearn-color-text);\n",
       "  background-color: var(--sklearn-color-fitted-level-2);\n",
       "}\n",
       "\n",
       "/* Estimator label */\n",
       "\n",
       "#sk-container-id-1 div.sk-label label {\n",
       "  font-family: monospace;\n",
       "  font-weight: bold;\n",
       "  display: inline-block;\n",
       "  line-height: 1.2em;\n",
       "}\n",
       "\n",
       "#sk-container-id-1 div.sk-label-container {\n",
       "  text-align: center;\n",
       "}\n",
       "\n",
       "/* Estimator-specific */\n",
       "#sk-container-id-1 div.sk-estimator {\n",
       "  font-family: monospace;\n",
       "  border: 1px dotted var(--sklearn-color-border-box);\n",
       "  border-radius: 0.25em;\n",
       "  box-sizing: border-box;\n",
       "  margin-bottom: 0.5em;\n",
       "  /* unfitted */\n",
       "  background-color: var(--sklearn-color-unfitted-level-0);\n",
       "}\n",
       "\n",
       "#sk-container-id-1 div.sk-estimator.fitted {\n",
       "  /* fitted */\n",
       "  background-color: var(--sklearn-color-fitted-level-0);\n",
       "}\n",
       "\n",
       "/* on hover */\n",
       "#sk-container-id-1 div.sk-estimator:hover {\n",
       "  /* unfitted */\n",
       "  background-color: var(--sklearn-color-unfitted-level-2);\n",
       "}\n",
       "\n",
       "#sk-container-id-1 div.sk-estimator.fitted:hover {\n",
       "  /* fitted */\n",
       "  background-color: var(--sklearn-color-fitted-level-2);\n",
       "}\n",
       "\n",
       "/* Specification for estimator info (e.g. \"i\" and \"?\") */\n",
       "\n",
       "/* Common style for \"i\" and \"?\" */\n",
       "\n",
       ".sk-estimator-doc-link,\n",
       "a:link.sk-estimator-doc-link,\n",
       "a:visited.sk-estimator-doc-link {\n",
       "  float: right;\n",
       "  font-size: smaller;\n",
       "  line-height: 1em;\n",
       "  font-family: monospace;\n",
       "  background-color: var(--sklearn-color-background);\n",
       "  border-radius: 1em;\n",
       "  height: 1em;\n",
       "  width: 1em;\n",
       "  text-decoration: none !important;\n",
       "  margin-left: 1ex;\n",
       "  /* unfitted */\n",
       "  border: var(--sklearn-color-unfitted-level-1) 1pt solid;\n",
       "  color: var(--sklearn-color-unfitted-level-1);\n",
       "}\n",
       "\n",
       ".sk-estimator-doc-link.fitted,\n",
       "a:link.sk-estimator-doc-link.fitted,\n",
       "a:visited.sk-estimator-doc-link.fitted {\n",
       "  /* fitted */\n",
       "  border: var(--sklearn-color-fitted-level-1) 1pt solid;\n",
       "  color: var(--sklearn-color-fitted-level-1);\n",
       "}\n",
       "\n",
       "/* On hover */\n",
       "div.sk-estimator:hover .sk-estimator-doc-link:hover,\n",
       ".sk-estimator-doc-link:hover,\n",
       "div.sk-label-container:hover .sk-estimator-doc-link:hover,\n",
       ".sk-estimator-doc-link:hover {\n",
       "  /* unfitted */\n",
       "  background-color: var(--sklearn-color-unfitted-level-3);\n",
       "  color: var(--sklearn-color-background);\n",
       "  text-decoration: none;\n",
       "}\n",
       "\n",
       "div.sk-estimator.fitted:hover .sk-estimator-doc-link.fitted:hover,\n",
       ".sk-estimator-doc-link.fitted:hover,\n",
       "div.sk-label-container:hover .sk-estimator-doc-link.fitted:hover,\n",
       ".sk-estimator-doc-link.fitted:hover {\n",
       "  /* fitted */\n",
       "  background-color: var(--sklearn-color-fitted-level-3);\n",
       "  color: var(--sklearn-color-background);\n",
       "  text-decoration: none;\n",
       "}\n",
       "\n",
       "/* Span, style for the box shown on hovering the info icon */\n",
       ".sk-estimator-doc-link span {\n",
       "  display: none;\n",
       "  z-index: 9999;\n",
       "  position: relative;\n",
       "  font-weight: normal;\n",
       "  right: .2ex;\n",
       "  padding: .5ex;\n",
       "  margin: .5ex;\n",
       "  width: min-content;\n",
       "  min-width: 20ex;\n",
       "  max-width: 50ex;\n",
       "  color: var(--sklearn-color-text);\n",
       "  box-shadow: 2pt 2pt 4pt #999;\n",
       "  /* unfitted */\n",
       "  background: var(--sklearn-color-unfitted-level-0);\n",
       "  border: .5pt solid var(--sklearn-color-unfitted-level-3);\n",
       "}\n",
       "\n",
       ".sk-estimator-doc-link.fitted span {\n",
       "  /* fitted */\n",
       "  background: var(--sklearn-color-fitted-level-0);\n",
       "  border: var(--sklearn-color-fitted-level-3);\n",
       "}\n",
       "\n",
       ".sk-estimator-doc-link:hover span {\n",
       "  display: block;\n",
       "}\n",
       "\n",
       "/* \"?\"-specific style due to the `<a>` HTML tag */\n",
       "\n",
       "#sk-container-id-1 a.estimator_doc_link {\n",
       "  float: right;\n",
       "  font-size: 1rem;\n",
       "  line-height: 1em;\n",
       "  font-family: monospace;\n",
       "  background-color: var(--sklearn-color-background);\n",
       "  border-radius: 1rem;\n",
       "  height: 1rem;\n",
       "  width: 1rem;\n",
       "  text-decoration: none;\n",
       "  /* unfitted */\n",
       "  color: var(--sklearn-color-unfitted-level-1);\n",
       "  border: var(--sklearn-color-unfitted-level-1) 1pt solid;\n",
       "}\n",
       "\n",
       "#sk-container-id-1 a.estimator_doc_link.fitted {\n",
       "  /* fitted */\n",
       "  border: var(--sklearn-color-fitted-level-1) 1pt solid;\n",
       "  color: var(--sklearn-color-fitted-level-1);\n",
       "}\n",
       "\n",
       "/* On hover */\n",
       "#sk-container-id-1 a.estimator_doc_link:hover {\n",
       "  /* unfitted */\n",
       "  background-color: var(--sklearn-color-unfitted-level-3);\n",
       "  color: var(--sklearn-color-background);\n",
       "  text-decoration: none;\n",
       "}\n",
       "\n",
       "#sk-container-id-1 a.estimator_doc_link.fitted:hover {\n",
       "  /* fitted */\n",
       "  background-color: var(--sklearn-color-fitted-level-3);\n",
       "}\n",
       "</style><div id=\"sk-container-id-1\" class=\"sk-top-container\"><div class=\"sk-text-repr-fallback\"><pre>VotingClassifier(estimators=[(&#x27;lgbm&#x27;, LGBMClassifier(random_state=42)),\n",
       "                             (&#x27;catboost&#x27;,\n",
       "                              &lt;catboost.core.CatBoostClassifier object at 0x00000242FC17DF10&gt;),\n",
       "                             (&#x27;xgboost&#x27;,\n",
       "                              XGBClassifier(base_score=None, booster=None,\n",
       "                                            callbacks=None,\n",
       "                                            colsample_bylevel=None,\n",
       "                                            colsample_bynode=None,\n",
       "                                            colsample_bytree=None, device=None,\n",
       "                                            early_stopping_rounds=None,\n",
       "                                            enable_categorical=False,\n",
       "                                            eval_m...\n",
       "                                            grow_policy=None,\n",
       "                                            importance_type=None,\n",
       "                                            interaction_constraints=None,\n",
       "                                            learning_rate=None, max_bin=None,\n",
       "                                            max_cat_threshold=None,\n",
       "                                            max_cat_to_onehot=None,\n",
       "                                            max_delta_step=None, max_depth=None,\n",
       "                                            max_leaves=None,\n",
       "                                            min_child_weight=None, missing=nan,\n",
       "                                            monotone_constraints=None,\n",
       "                                            multi_strategy=None,\n",
       "                                            n_estimators=None, n_jobs=None,\n",
       "                                            num_parallel_tree=None,\n",
       "                                            random_state=42, ...))],\n",
       "                 voting=&#x27;soft&#x27;)</pre><b>In a Jupyter environment, please rerun this cell to show the HTML representation or trust the notebook. <br />On GitHub, the HTML representation is unable to render, please try loading this page with nbviewer.org.</b></div><div class=\"sk-container\" hidden><div class=\"sk-item sk-dashed-wrapped\"><div class=\"sk-label-container\"><div class=\"sk-label fitted sk-toggleable\"><input class=\"sk-toggleable__control sk-hidden--visually\" id=\"sk-estimator-id-1\" type=\"checkbox\" ><label for=\"sk-estimator-id-1\" class=\"sk-toggleable__label fitted sk-toggleable__label-arrow fitted\">&nbsp;&nbsp;VotingClassifier<a class=\"sk-estimator-doc-link fitted\" rel=\"noreferrer\" target=\"_blank\" href=\"https://scikit-learn.org/1.4/modules/generated/sklearn.ensemble.VotingClassifier.html\">?<span>Documentation for VotingClassifier</span></a><span class=\"sk-estimator-doc-link fitted\">i<span>Fitted</span></span></label><div class=\"sk-toggleable__content fitted\"><pre>VotingClassifier(estimators=[(&#x27;lgbm&#x27;, LGBMClassifier(random_state=42)),\n",
       "                             (&#x27;catboost&#x27;,\n",
       "                              &lt;catboost.core.CatBoostClassifier object at 0x00000242FC17DF10&gt;),\n",
       "                             (&#x27;xgboost&#x27;,\n",
       "                              XGBClassifier(base_score=None, booster=None,\n",
       "                                            callbacks=None,\n",
       "                                            colsample_bylevel=None,\n",
       "                                            colsample_bynode=None,\n",
       "                                            colsample_bytree=None, device=None,\n",
       "                                            early_stopping_rounds=None,\n",
       "                                            enable_categorical=False,\n",
       "                                            eval_m...\n",
       "                                            grow_policy=None,\n",
       "                                            importance_type=None,\n",
       "                                            interaction_constraints=None,\n",
       "                                            learning_rate=None, max_bin=None,\n",
       "                                            max_cat_threshold=None,\n",
       "                                            max_cat_to_onehot=None,\n",
       "                                            max_delta_step=None, max_depth=None,\n",
       "                                            max_leaves=None,\n",
       "                                            min_child_weight=None, missing=nan,\n",
       "                                            monotone_constraints=None,\n",
       "                                            multi_strategy=None,\n",
       "                                            n_estimators=None, n_jobs=None,\n",
       "                                            num_parallel_tree=None,\n",
       "                                            random_state=42, ...))],\n",
       "                 voting=&#x27;soft&#x27;)</pre></div> </div></div><div class=\"sk-parallel\"><div class=\"sk-parallel-item\"><div class=\"sk-item\"><div class=\"sk-label-container\"><div class=\"sk-label fitted sk-toggleable\"><label>lgbm</label></div></div><div class=\"sk-serial\"><div class=\"sk-item\"><div class=\"sk-estimator fitted sk-toggleable\"><input class=\"sk-toggleable__control sk-hidden--visually\" id=\"sk-estimator-id-2\" type=\"checkbox\" ><label for=\"sk-estimator-id-2\" class=\"sk-toggleable__label fitted sk-toggleable__label-arrow fitted\">LGBMClassifier</label><div class=\"sk-toggleable__content fitted\"><pre>LGBMClassifier(random_state=42)</pre></div> </div></div></div></div></div><div class=\"sk-parallel-item\"><div class=\"sk-item\"><div class=\"sk-label-container\"><div class=\"sk-label fitted sk-toggleable\"><label>catboost</label></div></div><div class=\"sk-serial\"><div class=\"sk-item\"><div class=\"sk-estimator fitted sk-toggleable\"><input class=\"sk-toggleable__control sk-hidden--visually\" id=\"sk-estimator-id-3\" type=\"checkbox\" ><label for=\"sk-estimator-id-3\" class=\"sk-toggleable__label fitted sk-toggleable__label-arrow fitted\">CatBoostClassifier</label><div class=\"sk-toggleable__content fitted\"><pre>&lt;catboost.core.CatBoostClassifier object at 0x00000242FC17DF10&gt;</pre></div> </div></div></div></div></div><div class=\"sk-parallel-item\"><div class=\"sk-item\"><div class=\"sk-label-container\"><div class=\"sk-label fitted sk-toggleable\"><label>xgboost</label></div></div><div class=\"sk-serial\"><div class=\"sk-item\"><div class=\"sk-estimator fitted sk-toggleable\"><input class=\"sk-toggleable__control sk-hidden--visually\" id=\"sk-estimator-id-4\" type=\"checkbox\" ><label for=\"sk-estimator-id-4\" class=\"sk-toggleable__label fitted sk-toggleable__label-arrow fitted\">XGBClassifier</label><div class=\"sk-toggleable__content fitted\"><pre>XGBClassifier(base_score=None, booster=None, callbacks=None,\n",
       "              colsample_bylevel=None, colsample_bynode=None,\n",
       "              colsample_bytree=None, device=None, early_stopping_rounds=None,\n",
       "              enable_categorical=False, eval_metric=None, feature_types=None,\n",
       "              gamma=None, grow_policy=None, importance_type=None,\n",
       "              interaction_constraints=None, learning_rate=None, max_bin=None,\n",
       "              max_cat_threshold=None, max_cat_to_onehot=None,\n",
       "              max_delta_step=None, max_depth=None, max_leaves=None,\n",
       "              min_child_weight=None, missing=nan, monotone_constraints=None,\n",
       "              multi_strategy=None, n_estimators=None, n_jobs=None,\n",
       "              num_parallel_tree=None, random_state=42, ...)</pre></div> </div></div></div></div></div></div></div></div></div>"
      ],
      "text/plain": [
       "VotingClassifier(estimators=[('lgbm', LGBMClassifier(random_state=42)),\n",
       "                             ('catboost',\n",
       "                              <catboost.core.CatBoostClassifier object at 0x00000242FC17DF10>),\n",
       "                             ('xgboost',\n",
       "                              XGBClassifier(base_score=None, booster=None,\n",
       "                                            callbacks=None,\n",
       "                                            colsample_bylevel=None,\n",
       "                                            colsample_bynode=None,\n",
       "                                            colsample_bytree=None, device=None,\n",
       "                                            early_stopping_rounds=None,\n",
       "                                            enable_categorical=False,\n",
       "                                            eval_m...\n",
       "                                            grow_policy=None,\n",
       "                                            importance_type=None,\n",
       "                                            interaction_constraints=None,\n",
       "                                            learning_rate=None, max_bin=None,\n",
       "                                            max_cat_threshold=None,\n",
       "                                            max_cat_to_onehot=None,\n",
       "                                            max_delta_step=None, max_depth=None,\n",
       "                                            max_leaves=None,\n",
       "                                            min_child_weight=None, missing=nan,\n",
       "                                            monotone_constraints=None,\n",
       "                                            multi_strategy=None,\n",
       "                                            n_estimators=None, n_jobs=None,\n",
       "                                            num_parallel_tree=None,\n",
       "                                            random_state=42, ...))],\n",
       "                 voting='soft')"
      ]
     },
     "execution_count": 48,
     "metadata": {},
     "output_type": "execute_result"
    }
   ],
   "source": [
    "# Train the voting classifier\n",
    "voting_clf.fit(X_train, y_train)"
   ]
  },
  {
   "cell_type": "code",
   "execution_count": 49,
   "id": "e7023c65",
   "metadata": {},
   "outputs": [],
   "source": [
    "# Make predictions\n",
    "y_pred = voting_clf.predict(X_test)"
   ]
  },
  {
   "cell_type": "code",
   "execution_count": 50,
   "id": "44e00bea",
   "metadata": {},
   "outputs": [
    {
     "name": "stdout",
     "output_type": "stream",
     "text": [
      "Accuracy: 0.903745552182287\n",
      "Precision: 0.8674990695943431\n",
      "Recall: 0.952695660703557\n",
      "f1: 0.9081034963018947\n"
     ]
    }
   ],
   "source": [
    "# Evaluate accuracy\n",
    "accuracy = accuracy_score(y_test, y_pred)\n",
    "precision = precision_score(y_test, y_pred)\n",
    "recall = recall_score(y_test, y_pred)\n",
    "f1 = f1_score(y_test, y_pred)\n",
    "\n",
    "print(\"Accuracy:\", accuracy)\n",
    "print(\"Precision:\", precision)\n",
    "print(\"Recall:\", recall)\n",
    "print(\"f1:\", f1)"
   ]
  },
  {
   "cell_type": "code",
   "execution_count": null,
   "id": "fd80e069",
   "metadata": {},
   "outputs": [],
   "source": []
  },
  {
   "cell_type": "code",
   "execution_count": null,
   "id": "c4aaed64",
   "metadata": {},
   "outputs": [],
   "source": [
    "Create a auc/roc curve"
   ]
  },
  {
   "cell_type": "code",
   "execution_count": 51,
   "id": "cdaafcda",
   "metadata": {},
   "outputs": [],
   "source": [
    "from sklearn.metrics import roc_curve, roc_auc_score\n",
    "# Calculate ROC curve and AUC score\n",
    "fpr, tpr, thresholds = roc_curve(y_test, y_pred)\n",
    "auc_score = roc_auc_score(y_test, y_pred)"
   ]
  },
  {
   "cell_type": "code",
   "execution_count": 53,
   "id": "a6fc32d5",
   "metadata": {},
   "outputs": [],
   "source": [
    "# Plot ROC curve\n",
    "#plt.figure(figsize=(8, 6))\n",
    "#plt.plot(fpr, tpr, color='blue', lw=2, label='ROC curve (AUC = %0.2f)' % auc_score)\n",
    "#plt.plot([0, 1], [0, 1], color='gray', lw=1, linestyle='--')\n",
    "#plt.xlim([0.0, 1.0])\n",
    "#plt.ylim([0.0, 1.05])\n",
    "#plt.xlabel('False Positive Rate')\n",
    "#plt.ylabel('True Positive Rate')\n",
    "#plt.title('Receiver Operating Characteristic (ROC) Curve')\n",
    "#plt.legend(loc='lower right')\n",
    "#plt.show()"
   ]
  },
  {
   "cell_type": "code",
   "execution_count": null,
   "id": "88bed49f",
   "metadata": {},
   "outputs": [],
   "source": []
  },
  {
   "cell_type": "code",
   "execution_count": null,
   "id": "8ac868b4",
   "metadata": {},
   "outputs": [],
   "source": [
    "Final Prediction"
   ]
  },
  {
   "cell_type": "code",
   "execution_count": 54,
   "id": "0af1ddc2",
   "metadata": {},
   "outputs": [
    {
     "data": {
      "text/plain": [
       "array([0, 0, 0, ..., 0, 0, 1], dtype=int64)"
      ]
     },
     "execution_count": 54,
     "metadata": {},
     "output_type": "execute_result"
    }
   ],
   "source": [
    "y_pred_final = voting_clf.predict(test_final_scaled)\n",
    "y_pred_final"
   ]
  },
  {
   "cell_type": "code",
   "execution_count": 55,
   "id": "67292b41",
   "metadata": {},
   "outputs": [
    {
     "data": {
      "text/html": [
       "<div>\n",
       "<style scoped>\n",
       "    .dataframe tbody tr th:only-of-type {\n",
       "        vertical-align: middle;\n",
       "    }\n",
       "\n",
       "    .dataframe tbody tr th {\n",
       "        vertical-align: top;\n",
       "    }\n",
       "\n",
       "    .dataframe thead th {\n",
       "        text-align: right;\n",
       "    }\n",
       "</style>\n",
       "<table border=\"1\" class=\"dataframe\">\n",
       "  <thead>\n",
       "    <tr style=\"text-align: right;\">\n",
       "      <th></th>\n",
       "      <th>Target</th>\n",
       "    </tr>\n",
       "  </thead>\n",
       "  <tbody>\n",
       "    <tr>\n",
       "      <th>0</th>\n",
       "      <td>0</td>\n",
       "    </tr>\n",
       "    <tr>\n",
       "      <th>1</th>\n",
       "      <td>0</td>\n",
       "    </tr>\n",
       "    <tr>\n",
       "      <th>2</th>\n",
       "      <td>0</td>\n",
       "    </tr>\n",
       "    <tr>\n",
       "      <th>3</th>\n",
       "      <td>0</td>\n",
       "    </tr>\n",
       "    <tr>\n",
       "      <th>4</th>\n",
       "      <td>1</td>\n",
       "    </tr>\n",
       "  </tbody>\n",
       "</table>\n",
       "</div>"
      ],
      "text/plain": [
       "   Target\n",
       "0       0\n",
       "1       0\n",
       "2       0\n",
       "3       0\n",
       "4       1"
      ]
     },
     "execution_count": 55,
     "metadata": {},
     "output_type": "execute_result"
    }
   ],
   "source": [
    "# Convert array to DataFrame\n",
    "predictions = pd.DataFrame(y_pred_final, columns=['Target'])\n",
    "\n",
    "# Print the DataFrame\n",
    "predictions.head()"
   ]
  },
  {
   "cell_type": "code",
   "execution_count": 57,
   "id": "a167d917",
   "metadata": {},
   "outputs": [],
   "source": [
    "# Read the CSV file\n",
    "ss = pd.read_csv('SampleSubmission (1).csv')"
   ]
  },
  {
   "cell_type": "code",
   "execution_count": 58,
   "id": "afb79734",
   "metadata": {},
   "outputs": [],
   "source": [
    "# Make predictions in test set and prepare submission file\n",
    "predictions =  pd.DataFrame(y_pred_final, columns=['Predictions'])\n",
    "sub_file = ss.copy()\n",
    "sub_file.Target = predictions\n",
    "sub_file.to_csv('voting_clf_2.csv', index = False)"
   ]
  },
  {
   "cell_type": "code",
   "execution_count": null,
   "id": "faa25cd7",
   "metadata": {},
   "outputs": [],
   "source": []
  },
  {
   "cell_type": "code",
   "execution_count": null,
   "id": "6e5abed1",
   "metadata": {},
   "outputs": [],
   "source": []
  }
 ],
 "metadata": {
  "kernelspec": {
   "display_name": "Python 3 (ipykernel)",
   "language": "python",
   "name": "python3"
  },
  "language_info": {
   "codemirror_mode": {
    "name": "ipython",
    "version": 3
   },
   "file_extension": ".py",
   "mimetype": "text/x-python",
   "name": "python",
   "nbconvert_exporter": "python",
   "pygments_lexer": "ipython3",
   "version": "3.11.5"
  }
 },
 "nbformat": 4,
 "nbformat_minor": 5
}
